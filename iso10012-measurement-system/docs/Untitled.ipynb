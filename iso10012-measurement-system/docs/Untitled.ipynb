{
 "cells": [
  {
   "cell_type": "code",
   "execution_count": 1,
   "id": "3f6c0f25-6d6d-43dd-be86-43019b9f69b6",
   "metadata": {
    "tags": []
   },
   "outputs": [
    {
     "name": "stderr",
     "output_type": "stream",
     "text": [
      "/tmp/ipykernel_2895/2984085637.py:2: UserWarning: \n",
      "The dash_core_components package is deprecated. Please replace\n",
      "`import dash_core_components as dcc` with `from dash import dcc`\n",
      "  import dash_core_components as dcc\n",
      "/tmp/ipykernel_2895/2984085637.py:3: UserWarning: \n",
      "The dash_html_components package is deprecated. Please replace\n",
      "`import dash_html_components as html` with `from dash import html`\n",
      "  import dash_html_components as html\n"
     ]
    },
    {
     "ename": "NameError",
     "evalue": "name 'app' is not defined",
     "output_type": "error",
     "traceback": [
      "\u001b[0;31m---------------------------------------------------------------------------\u001b[0m",
      "\u001b[0;31mNameError\u001b[0m                                 Traceback (most recent call last)",
      "Cell \u001b[0;32mIn[1], line 64\u001b[0m\n\u001b[1;32m     14\u001b[0m app_layout \u001b[38;5;241m=\u001b[39m html\u001b[38;5;241m.\u001b[39mDiv(\n\u001b[1;32m     15\u001b[0m     [\n\u001b[1;32m     16\u001b[0m         dcc\u001b[38;5;241m.\u001b[39mLocation(\u001b[38;5;28mid\u001b[39m\u001b[38;5;241m=\u001b[39m\u001b[38;5;124m\"\u001b[39m\u001b[38;5;124murl\u001b[39m\u001b[38;5;124m\"\u001b[39m, refresh\u001b[38;5;241m=\u001b[39m\u001b[38;5;28;01mFalse\u001b[39;00m),\n\u001b[0;32m   (...)\u001b[0m\n\u001b[1;32m     60\u001b[0m     ]\n\u001b[1;32m     61\u001b[0m )\n\u001b[1;32m     63\u001b[0m \u001b[38;5;66;03m# Define the page callbacks\u001b[39;00m\n\u001b[0;32m---> 64\u001b[0m \u001b[38;5;129m@app\u001b[39m\u001b[38;5;241m.\u001b[39mcallback(dash\u001b[38;5;241m.\u001b[39mdependencies\u001b[38;5;241m.\u001b[39mOutput(\u001b[38;5;124m\"\u001b[39m\u001b[38;5;124mpage-content\u001b[39m\u001b[38;5;124m\"\u001b[39m, \u001b[38;5;124m\"\u001b[39m\u001b[38;5;124mchildren\u001b[39m\u001b[38;5;124m\"\u001b[39m), [dash\u001b[38;5;241m.\u001b[39mdependencies\u001b[38;5;241m.\u001b[39mInput(\u001b[38;5;124m\"\u001b[39m\u001b[38;5;124murl\u001b[39m\u001b[38;5;124m\"\u001b[39m, \u001b[38;5;124m\"\u001b[39m\u001b[38;5;124mpathname\u001b[39m\u001b[38;5;124m\"\u001b[39m)])\n\u001b[1;32m     65\u001b[0m \u001b[38;5;28;01mdef\u001b[39;00m \u001b[38;5;21mrender_page_content\u001b[39m(pathname):\n\u001b[1;32m     66\u001b[0m     \u001b[38;5;28;01mif\u001b[39;00m pathname \u001b[38;5;241m==\u001b[39m \u001b[38;5;124m\"\u001b[39m\u001b[38;5;124m/\u001b[39m\u001b[38;5;124m\"\u001b[39m:\n\u001b[1;32m     67\u001b[0m         \u001b[38;5;28;01mreturn\u001b[39;00m html\u001b[38;5;241m.\u001b[39mH1(\u001b[38;5;124m\"\u001b[39m\u001b[38;5;124mWelcome to the ISO 10012:2003 Measurement Management System\u001b[39m\u001b[38;5;124m\"\u001b[39m)\n",
      "\u001b[0;31mNameError\u001b[0m: name 'app' is not defined"
     ]
    }
   ],
   "source": [
    "import dash\n",
    "import dash_core_components as dcc\n",
    "import dash_html_components as html\n",
    "\n",
    "# Define the menu items\n",
    "menu_items = [\n",
    "    {\"label\": \"Home\", \"href\": \"/\"},\n",
    "    {\"label\": \"Section 4\", \"href\": \"/section4\"},\n",
    "    {\"label\": \"Section 5\", \"href\": \"/section5\"},\n",
    "    {\"label\": \"Section 6\", \"href\": \"/section6\"}\n",
    "]\n",
    "\n",
    "# Define the app layout\n",
    "app_layout = html.Div(\n",
    "    [\n",
    "        dcc.Location(id=\"url\", refresh=False),\n",
    "        html.Nav(\n",
    "            className=\"navbar navbar-expand-lg navbar-light bg-light\",\n",
    "            children=[\n",
    "                html.A(\n",
    "                    className=\"navbar-brand\",\n",
    "                    href=\"/\",\n",
    "                    children=\"ISO 10012:2003 Measurement Management System\"\n",
    "                ),\n",
    "                html.Button(\n",
    "                    className=\"navbar-toggler\",\n",
    "                    type=\"button\",\n",
    "                    **{\"data-toggle\": \"collapse\", \"data-target\": \"#navbarNav\"},\n",
    "                    children=html.Span(className=\"navbar-toggler-icon\")\n",
    "                ),\n",
    "                html.Div(\n",
    "                    className=\"collapse navbar-collapse\",\n",
    "                    id=\"navbarNav\",\n",
    "                    children=html.Ul(\n",
    "                        className=\"navbar-nav ml-auto\",\n",
    "                        children=[\n",
    "                            html.Li(\n",
    "                                className=\"nav-item active\",\n",
    "                                children=html.A(\n",
    "                                    className=\"nav-link\",\n",
    "                                    href=\"/\",\n",
    "                                    children=\"Home\"\n",
    "                                )\n",
    "                            )\n",
    "                        ] + [\n",
    "                            html.Li(\n",
    "                                className=\"nav-item\",\n",
    "                                children=html.A(\n",
    "                                    className=\"nav-link\",\n",
    "                                    href=item[\"href\"],\n",
    "                                    children=item[\"label\"]\n",
    "                                )\n",
    "                            ) for item in menu_items[1:]\n",
    "                        ]\n",
    "                    )\n",
    "                )\n",
    "            ]\n",
    "        ),\n",
    "        html.Div(id=\"page-content\")\n",
    "    ]\n",
    ")\n",
    "\n",
    "# Define the page callbacks\n",
    "@app.callback(dash.dependencies.Output(\"page-content\", \"children\"), [dash.dependencies.Input(\"url\", \"pathname\")])\n",
    "def render_page_content(pathname):\n",
    "    if pathname == \"/\":\n",
    "        return html.H1(\"Welcome to the ISO 10012:2003 Measurement Management System\")\n",
    "    elif pathname == \"/section4\":\n",
    "        return html.H2(\"Section 4: Measuring Equipment\")\n",
    "    elif pathname == \"/section5\":\n",
    "        return html.H2(\"Section 5: Measurement Processes\")\n",
    "    elif pathname == \"/section6\":\n",
    "        return html.H2(\"Section 6: Measurement Management\")\n",
    "    else:\n",
    "        return html.H1(\"404 - Not found\")\n",
    "\n",
    "# Define the app\n",
    "app = dash.Dash(__name__, suppress_callback_exceptions=True, external_stylesheets=[\"https://stackpath.bootstrapcdn.com/bootstrap/4.3.1/css/bootstrap.min.css\"])\n",
    "\n",
    "# Set the app layout\n",
    "app.layout = app_layout\n",
    "\n",
    "# Run the app\n",
    "if __name__ == \"__main__\":\n",
    "    app.run_server(debug=True)\n"
   ]
  },
  {
   "cell_type": "code",
   "execution_count": null,
   "id": "2bd2b05c-c2ef-42d8-a624-e5fb8b70a1a3",
   "metadata": {},
   "outputs": [],
   "source": []
  }
 ],
 "metadata": {
  "kernelspec": {
   "display_name": "Python 3 (ipykernel)",
   "language": "python",
   "name": "python3"
  },
  "language_info": {
   "codemirror_mode": {
    "name": "ipython",
    "version": 3
   },
   "file_extension": ".py",
   "mimetype": "text/x-python",
   "name": "python",
   "nbconvert_exporter": "python",
   "pygments_lexer": "ipython3",
   "version": "3.10.4"
  }
 },
 "nbformat": 4,
 "nbformat_minor": 5
}
