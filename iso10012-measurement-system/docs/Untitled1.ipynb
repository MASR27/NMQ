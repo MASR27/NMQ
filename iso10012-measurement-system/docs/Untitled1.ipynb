{
 "cells": [
  {
   "cell_type": "code",
   "execution_count": 1,
   "id": "cd4da6ee-5b20-49d1-a615-91d2fc6f3c21",
   "metadata": {
    "tags": []
   },
   "outputs": [
    {
     "name": "stdout",
     "output_type": "stream",
     "text": [
      "Requirement already satisfied: mkdocs in /usr/local/python/3.10.4/lib/python3.10/site-packages (1.4.2)\n",
      "Requirement already satisfied: markdown<3.4,>=3.2.1 in /usr/local/python/3.10.4/lib/python3.10/site-packages (from mkdocs) (3.3.7)\n",
      "Requirement already satisfied: packaging>=20.5 in /home/codespace/.local/lib/python3.10/site-packages (from mkdocs) (23.0)\n",
      "Requirement already satisfied: pyyaml-env-tag>=0.1 in /usr/local/python/3.10.4/lib/python3.10/site-packages (from mkdocs) (0.1)\n",
      "Requirement already satisfied: click>=7.0 in /usr/local/python/3.10.4/lib/python3.10/site-packages (from mkdocs) (8.1.3)\n",
      "Requirement already satisfied: mergedeep>=1.3.4 in /usr/local/python/3.10.4/lib/python3.10/site-packages (from mkdocs) (1.3.4)\n",
      "Requirement already satisfied: pyyaml>=5.1 in /home/codespace/.local/lib/python3.10/site-packages (from mkdocs) (6.0)\n",
      "Requirement already satisfied: ghp-import>=1.0 in /usr/local/python/3.10.4/lib/python3.10/site-packages (from mkdocs) (2.1.0)\n",
      "Requirement already satisfied: watchdog>=2.0 in /usr/local/python/3.10.4/lib/python3.10/site-packages (from mkdocs) (2.3.1)\n",
      "Requirement already satisfied: jinja2>=2.11.1 in /home/codespace/.local/lib/python3.10/site-packages (from mkdocs) (3.1.2)\n",
      "Requirement already satisfied: python-dateutil>=2.8.1 in /home/codespace/.local/lib/python3.10/site-packages (from ghp-import>=1.0->mkdocs) (2.8.2)\n",
      "Requirement already satisfied: MarkupSafe>=2.0 in /home/codespace/.local/lib/python3.10/site-packages (from jinja2>=2.11.1->mkdocs) (2.1.2)\n",
      "Requirement already satisfied: six>=1.5 in /home/codespace/.local/lib/python3.10/site-packages (from python-dateutil>=2.8.1->ghp-import>=1.0->mkdocs) (1.16.0)\n",
      "Requirement already satisfied: plotly in /home/codespace/.local/lib/python3.10/site-packages (5.13.1)\n",
      "Requirement already satisfied: tenacity>=6.2.0 in /home/codespace/.local/lib/python3.10/site-packages (from plotly) (8.2.2)\n",
      "Requirement already satisfied: flask in /usr/local/python/3.10.4/lib/python3.10/site-packages (2.2.3)\n",
      "Requirement already satisfied: Werkzeug>=2.2.2 in /usr/local/python/3.10.4/lib/python3.10/site-packages (from flask) (2.2.3)\n",
      "Requirement already satisfied: itsdangerous>=2.0 in /usr/local/python/3.10.4/lib/python3.10/site-packages (from flask) (2.1.2)\n",
      "Requirement already satisfied: click>=8.0 in /usr/local/python/3.10.4/lib/python3.10/site-packages (from flask) (8.1.3)\n",
      "Requirement already satisfied: Jinja2>=3.0 in /home/codespace/.local/lib/python3.10/site-packages (from flask) (3.1.2)\n",
      "Requirement already satisfied: MarkupSafe>=2.0 in /home/codespace/.local/lib/python3.10/site-packages (from Jinja2>=3.0->flask) (2.1.2)\n"
     ]
    }
   ],
   "source": [
    "!pip install mkdocs\n",
    "!pip install plotly\n",
    "!pip install flask\n"
   ]
  },
  {
   "cell_type": "code",
   "execution_count": 2,
   "id": "a14e5fe4-cb2a-43e4-8f20-fe634ca25d8d",
   "metadata": {
    "tags": []
   },
   "outputs": [
    {
     "ename": "SyntaxError",
     "evalue": "invalid syntax (1448234829.py, line 1)",
     "output_type": "error",
     "traceback": [
      "\u001b[0;36m  Cell \u001b[0;32mIn[2], line 1\u001b[0;36m\u001b[0m\n\u001b[0;31m    mkdocs new iso10012\u001b[0m\n\u001b[0m           ^\u001b[0m\n\u001b[0;31mSyntaxError\u001b[0m\u001b[0;31m:\u001b[0m invalid syntax\n"
     ]
    }
   ],
   "source": [
    "mkdocs new iso10012\n"
   ]
  },
  {
   "cell_type": "code",
   "execution_count": 3,
   "id": "aa18178c-b64a-4e0c-904f-99a501d62ecd",
   "metadata": {
    "tags": []
   },
   "outputs": [],
   "source": [
    "import plotly.graph_objs as go\n",
    "import pandas as pd\n",
    "\n",
    "def create_chart():\n",
    "    df = pd.read_csv('data.csv')\n",
    "    trace = go.Scatter(x=df['Date'], y=df['Value'], mode='lines')\n",
    "    layout = go.Layout(title='Gasoline Sales', xaxis_title='Date', yaxis_title='Sales (Liters)')\n",
    "    fig = go.Figure(data=[trace], layout=layout)\n",
    "    return fig\n"
   ]
  },
  {
   "cell_type": "code",
   "execution_count": 2,
   "id": "7ac151aa-6a77-4487-8e03-fabef2641e0d",
   "metadata": {
    "tags": []
   },
   "outputs": [
    {
     "ename": "ImportError",
     "evalue": "cannot import name 'plot' from 'plot' (/usr/local/python/3.10.4/lib/python3.10/site-packages/plot/__init__.py)",
     "output_type": "error",
     "traceback": [
      "\u001b[0;31m---------------------------------------------------------------------------\u001b[0m",
      "\u001b[0;31mImportError\u001b[0m                               Traceback (most recent call last)",
      "Cell \u001b[0;32mIn[2], line 2\u001b[0m\n\u001b[1;32m      1\u001b[0m \u001b[38;5;28;01mfrom\u001b[39;00m \u001b[38;5;21;01mflask\u001b[39;00m \u001b[38;5;28;01mimport\u001b[39;00m Flask, render_template\n\u001b[0;32m----> 2\u001b[0m \u001b[38;5;28;01mfrom\u001b[39;00m \u001b[38;5;21;01mcharts\u001b[39;00m \u001b[38;5;28;01mimport\u001b[39;00m create_chart\n\u001b[1;32m      4\u001b[0m app \u001b[38;5;241m=\u001b[39m Flask(\u001b[38;5;18m__name__\u001b[39m)\n\u001b[1;32m      6\u001b[0m \u001b[38;5;129m@app\u001b[39m\u001b[38;5;241m.\u001b[39mroute(\u001b[38;5;124m'\u001b[39m\u001b[38;5;124m/\u001b[39m\u001b[38;5;124m'\u001b[39m)\n\u001b[1;32m      7\u001b[0m \u001b[38;5;28;01mdef\u001b[39;00m \u001b[38;5;21mindex\u001b[39m():\n",
      "File \u001b[0;32m/usr/local/python/3.10.4/lib/python3.10/site-packages/charts/__init__.py:5\u001b[0m\n\u001b[1;32m      1\u001b[0m __author__ \u001b[38;5;241m=\u001b[39m \u001b[38;5;124m'\u001b[39m\u001b[38;5;124marnout\u001b[39m\u001b[38;5;124m'\u001b[39m\n\u001b[1;32m      3\u001b[0m __version__ \u001b[38;5;241m=\u001b[39m \u001b[38;5;124m'\u001b[39m\u001b[38;5;124m0.4.6\u001b[39m\u001b[38;5;124m'\u001b[39m\n\u001b[0;32m----> 5\u001b[0m \u001b[38;5;28;01mfrom\u001b[39;00m \u001b[38;5;21;01mplot\u001b[39;00m \u001b[38;5;28;01mimport\u001b[39;00m plot, plotasync, line, area, spline, pie\n\u001b[1;32m      6\u001b[0m \u001b[38;5;28;01mfrom\u001b[39;00m \u001b[38;5;21;01mserver\u001b[39;00m \u001b[38;5;28;01mimport\u001b[39;00m run_server\n\u001b[1;32m      8\u001b[0m \u001b[38;5;28;01mfrom\u001b[39;00m \u001b[38;5;21;01mIPython\u001b[39;00m\u001b[38;5;21;01m.\u001b[39;00m\u001b[38;5;21;01mcore\u001b[39;00m \u001b[38;5;28;01mimport\u001b[39;00m getipython\n",
      "\u001b[0;31mImportError\u001b[0m: cannot import name 'plot' from 'plot' (/usr/local/python/3.10.4/lib/python3.10/site-packages/plot/__init__.py)"
     ]
    }
   ],
   "source": [
    "from flask import Flask, render_template\n",
    "from charts import create_chart\n",
    "\n",
    "app = Flask(__name__)\n",
    "\n",
    "@app.route('/')\n",
    "def index():\n",
    "    return render_template('index.md')\n",
    "\n",
    "@app.route('/chart')\n",
    "def chart():\n",
    "    chart = create_chart()\n",
    "    return chart.to_html(full_html=False)\n",
    "\n",
    "if __name__ == '__main__':\n",
    "    app.run(debug=True)\n"
   ]
  },
  {
   "cell_type": "code",
   "execution_count": 5,
   "id": "968a51ce-2d6a-46c3-886f-51cd3059e0ad",
   "metadata": {
    "tags": []
   },
   "outputs": [
    {
     "name": "stdout",
     "output_type": "stream",
     "text": [
      "Collecting charts\n",
      "  Downloading charts-0.4.6.tar.gz (51 kB)\n",
      "\u001b[2K     \u001b[90m━━━━━━━━━━━━━━━━━━━━━━━━━━━━━━━━━━━━━━━━\u001b[0m \u001b[32m51.8/51.8 kB\u001b[0m \u001b[31m2.6 MB/s\u001b[0m eta \u001b[36m0:00:00\u001b[0m\n",
      "\u001b[?25h  Preparing metadata (setup.py) ... \u001b[?25ldone\n",
      "\u001b[?25hBuilding wheels for collected packages: charts\n",
      "  Building wheel for charts (setup.py) ... \u001b[?25ldone\n",
      "\u001b[?25h  Created wheel for charts: filename=charts-0.4.6-py3-none-any.whl size=57380 sha256=40377dbd401d3a74ca5aa35bccc22fcec7736867aa7ff41b0d55fae3845060a0\n",
      "  Stored in directory: /home/codespace/.cache/pip/wheels/f7/fd/f7/2d776608e45c360d888f559fd2ec634165cf9b3dbccd9c01ab\n",
      "Successfully built charts\n",
      "Installing collected packages: charts\n",
      "Successfully installed charts-0.4.6\n"
     ]
    }
   ],
   "source": [
    "!pip install charts"
   ]
  },
  {
   "cell_type": "code",
   "execution_count": 9,
   "id": "2298b199-c1e7-446d-895c-f0414b5dd921",
   "metadata": {
    "tags": []
   },
   "outputs": [
    {
     "name": "stdout",
     "output_type": "stream",
     "text": [
      "Collecting plot\n",
      "  Downloading plot-0.6.5-py2.py3-none-any.whl (135 kB)\n",
      "\u001b[2K     \u001b[90m━━━━━━━━━━━━━━━━━━━━━━━━━━━━━━━━━━━━━━━\u001b[0m \u001b[32m135.1/135.1 kB\u001b[0m \u001b[31m5.6 MB/s\u001b[0m eta \u001b[36m0:00:00\u001b[0m\n",
      "\u001b[?25hRequirement already satisfied: pyyaml in /home/codespace/.local/lib/python3.10/site-packages (from plot) (6.0)\n",
      "Requirement already satisfied: numpy in /home/codespace/.local/lib/python3.10/site-packages (from plot) (1.24.2)\n",
      "Requirement already satisfied: scipy in /home/codespace/.local/lib/python3.10/site-packages (from plot) (1.10.1)\n",
      "Collecting typing\n",
      "  Downloading typing-3.7.4.3.tar.gz (78 kB)\n",
      "\u001b[2K     \u001b[90m━━━━━━━━━━━━━━━━━━━━━━━━━━━━━━━━━━━━━━━━\u001b[0m \u001b[32m78.6/78.6 kB\u001b[0m \u001b[31m4.5 MB/s\u001b[0m eta \u001b[36m0:00:00\u001b[0m\n",
      "\u001b[?25h  Preparing metadata (setup.py) ... \u001b[?25ldone\n",
      "\u001b[?25hRequirement already satisfied: matplotlib in /home/codespace/.local/lib/python3.10/site-packages (from plot) (3.7.0)\n",
      "Requirement already satisfied: contourpy>=1.0.1 in /home/codespace/.local/lib/python3.10/site-packages (from matplotlib->plot) (1.0.7)\n",
      "Requirement already satisfied: kiwisolver>=1.0.1 in /home/codespace/.local/lib/python3.10/site-packages (from matplotlib->plot) (1.4.4)\n",
      "Requirement already satisfied: packaging>=20.0 in /home/codespace/.local/lib/python3.10/site-packages (from matplotlib->plot) (23.0)\n",
      "Requirement already satisfied: pillow>=6.2.0 in /home/codespace/.local/lib/python3.10/site-packages (from matplotlib->plot) (9.4.0)\n",
      "Requirement already satisfied: cycler>=0.10 in /home/codespace/.local/lib/python3.10/site-packages (from matplotlib->plot) (0.11.0)\n",
      "Requirement already satisfied: pyparsing>=2.3.1 in /home/codespace/.local/lib/python3.10/site-packages (from matplotlib->plot) (3.0.9)\n",
      "Requirement already satisfied: fonttools>=4.22.0 in /home/codespace/.local/lib/python3.10/site-packages (from matplotlib->plot) (4.38.0)\n",
      "Requirement already satisfied: python-dateutil>=2.7 in /home/codespace/.local/lib/python3.10/site-packages (from matplotlib->plot) (2.8.2)\n",
      "Requirement already satisfied: six>=1.5 in /home/codespace/.local/lib/python3.10/site-packages (from python-dateutil>=2.7->matplotlib->plot) (1.16.0)\n",
      "Building wheels for collected packages: typing\n",
      "  Building wheel for typing (setup.py) ... \u001b[?25ldone\n",
      "\u001b[?25h  Created wheel for typing: filename=typing-3.7.4.3-py3-none-any.whl size=26304 sha256=6ecac322047f2ee8beff889645dc72dbd63668407d7831be0ce3d982af2ae117\n",
      "  Stored in directory: /home/codespace/.cache/pip/wheels/7c/d0/9e/1f26ebb66d9e1732e4098bc5a6c2d91f6c9a529838f0284890\n",
      "Successfully built typing\n",
      "Installing collected packages: typing, plot\n",
      "Successfully installed plot-0.6.5 typing-3.7.4.3\n"
     ]
    }
   ],
   "source": [
    "!pip install plot"
   ]
  },
  {
   "cell_type": "code",
   "execution_count": 5,
   "id": "46f9e81c-9216-45e5-be47-4104dbc5c76a",
   "metadata": {
    "tags": []
   },
   "outputs": [
    {
     "ename": "NameError",
     "evalue": "name 'app' is not defined",
     "output_type": "error",
     "traceback": [
      "\u001b[0;31m---------------------------------------------------------------------------\u001b[0m",
      "\u001b[0;31mNameError\u001b[0m                                 Traceback (most recent call last)",
      "Cell \u001b[0;32mIn[5], line 64\u001b[0m\n\u001b[1;32m     14\u001b[0m app_layout \u001b[38;5;241m=\u001b[39m html\u001b[38;5;241m.\u001b[39mDiv(\n\u001b[1;32m     15\u001b[0m     [\n\u001b[1;32m     16\u001b[0m         dcc\u001b[38;5;241m.\u001b[39mLocation(\u001b[38;5;28mid\u001b[39m\u001b[38;5;241m=\u001b[39m\u001b[38;5;124m\"\u001b[39m\u001b[38;5;124murl\u001b[39m\u001b[38;5;124m\"\u001b[39m, refresh\u001b[38;5;241m=\u001b[39m\u001b[38;5;28;01mFalse\u001b[39;00m),\n\u001b[0;32m   (...)\u001b[0m\n\u001b[1;32m     60\u001b[0m     ]\n\u001b[1;32m     61\u001b[0m )\n\u001b[1;32m     63\u001b[0m \u001b[38;5;66;03m# Define the page callbacks\u001b[39;00m\n\u001b[0;32m---> 64\u001b[0m \u001b[38;5;129m@app\u001b[39m\u001b[38;5;241m.\u001b[39mcallback(dash\u001b[38;5;241m.\u001b[39mdependencies\u001b[38;5;241m.\u001b[39mOutput(\u001b[38;5;124m\"\u001b[39m\u001b[38;5;124mpage-content\u001b[39m\u001b[38;5;124m\"\u001b[39m, \u001b[38;5;124m\"\u001b[39m\u001b[38;5;124mchildren\u001b[39m\u001b[38;5;124m\"\u001b[39m), [dash\u001b[38;5;241m.\u001b[39mdependencies\u001b[38;5;241m.\u001b[39mInput(\u001b[38;5;124m\"\u001b[39m\u001b[38;5;124murl\u001b[39m\u001b[38;5;124m\"\u001b[39m, \u001b[38;5;124m\"\u001b[39m\u001b[38;5;124mpathname\u001b[39m\u001b[38;5;124m\"\u001b[39m)])\n\u001b[1;32m     65\u001b[0m \u001b[38;5;28;01mdef\u001b[39;00m \u001b[38;5;21mrender_page_content\u001b[39m(pathname):\n\u001b[1;32m     66\u001b[0m     \u001b[38;5;28;01mif\u001b[39;00m pathname \u001b[38;5;241m==\u001b[39m \u001b[38;5;124m\"\u001b[39m\u001b[38;5;124m/\u001b[39m\u001b[38;5;124m\"\u001b[39m:\n\u001b[1;32m     67\u001b[0m         \u001b[38;5;28;01mreturn\u001b[39;00m html\u001b[38;5;241m.\u001b[39mH1(\u001b[38;5;124m\"\u001b[39m\u001b[38;5;124mWelcome to the Gas Station Measurement Management System\u001b[39m\u001b[38;5;124m\"\u001b[39m)\n",
      "\u001b[0;31mNameError\u001b[0m: name 'app' is not defined"
     ]
    }
   ],
   "source": [
    "import dash\n",
    "import dash_core_components as dcc\n",
    "import dash_html_components as html\n",
    "\n",
    "# Define the menu items\n",
    "menu_items = [\n",
    "    {\"label\": \"Home\", \"href\": \"/\"},\n",
    "    {\"label\": \"Measuring Equipment\", \"href\": \"/measuring_equipment\"},\n",
    "    {\"label\": \"Measurement Processes\", \"href\": \"/measurement_processes\"},\n",
    "    {\"label\": \"Measurement Management\", \"href\": \"/measurement_management\"}\n",
    "]\n",
    "\n",
    "# Define the app layout\n",
    "app_layout = html.Div(\n",
    "    [\n",
    "        dcc.Location(id=\"url\", refresh=False),\n",
    "        html.Nav(\n",
    "            className=\"navbar navbar-expand-lg navbar-light bg-light\",\n",
    "            children=[\n",
    "                html.A(\n",
    "                    className=\"navbar-brand\",\n",
    "                    href=\"/\",\n",
    "                    children=\"Gas Station Measurement Management System\"\n",
    "                ),\n",
    "                html.Button(\n",
    "                    className=\"navbar-toggler\",\n",
    "                    type=\"button\",\n",
    "                    **{\"data-toggle\": \"collapse\", \"data-target\": \"#navbarNav\"},\n",
    "                    children=html.Span(className=\"navbar-toggler-icon\")\n",
    "                ),\n",
    "                html.Div(\n",
    "                    className=\"collapse navbar-collapse\",\n",
    "                    id=\"navbarNav\",\n",
    "                    children=html.Ul(\n",
    "                        className=\"navbar-nav ml-auto\",\n",
    "                        children=[\n",
    "                            html.Li(\n",
    "                                className=\"nav-item active\",\n",
    "                                children=html.A(\n",
    "                                    className=\"nav-link\",\n",
    "                                    href=\"/\",\n",
    "                                    children=\"Home\"\n",
    "                                )\n",
    "                            )\n",
    "                        ] + [\n",
    "                            html.Li(\n",
    "                                className=\"nav-item\",\n",
    "                                children=html.A(\n",
    "                                    className=\"nav-link\",\n",
    "                                    href=item[\"href\"],\n",
    "                                    children=item[\"label\"]\n",
    "                                )\n",
    "                            ) for item in menu_items[1:]\n",
    "                        ]\n",
    "                    )\n",
    "                )\n",
    "            ]\n",
    "        ),\n",
    "        html.Div(id=\"page-content\")\n",
    "    ]\n",
    ")\n",
    "\n",
    "# Define the page callbacks\n",
    "@app.callback(dash.dependencies.Output(\"page-content\", \"children\"), [dash.dependencies.Input(\"url\", \"pathname\")])\n",
    "def render_page_content(pathname):\n",
    "    if pathname == \"/\":\n",
    "        return html.H1(\"Welcome to the Gas Station Measurement Management System\")\n",
    "    elif pathname == \"/measuring_equipment\":\n",
    "        return html.H2(\"Measuring Equipment\")\n",
    "    elif pathname == \"/measurement_processes\":\n",
    "        return html.H2(\"Measurement Processes\")\n",
    "    elif pathname == \"/measurement_management\":\n",
    "        return html.H2(\"Measurement Management\")\n",
    "    else:\n",
    "        return html.H1(\"404 - Not found\")\n",
    "\n",
    "# Define the app\n",
    "app = dash.Dash(__name__, suppress_callback_exceptions=True, external_stylesheets=[\"https://stackpath.bootstrapcdn.com/bootstrap/4.3.1/css/bootstrap.min.css\"])\n",
    "\n",
    "# Set the app layout\n",
    "app.layout = app_layout\n",
    "\n",
    "# Run the app\n",
    "if __name__ == \"__main__\":\n",
    "    app.run_server(debug=True)\n"
   ]
  },
  {
   "cell_type": "code",
   "execution_count": null,
   "id": "c82d300d-88fa-44ce-9e72-d96f40842e7c",
   "metadata": {
    "tags": []
   },
   "outputs": [
    {
     "name": "stdout",
     "output_type": "stream",
     "text": [
      "Dash is running on http://127.0.0.1:8050/\n",
      "\n",
      "Dash is running on http://127.0.0.1:8050/\n",
      "\n",
      " * Serving Flask app '__main__'\n",
      " * Debug mode: off\n"
     ]
    }
   ],
   "source": [
    "import dash\n",
    "import dash_core_components as dcc\n",
    "import dash_html_components as html\n",
    "\n",
    "# Define the menu items\n",
    "menu_items = [\n",
    "    {\"label\": \"Home\", \"href\": \"/\"},\n",
    "    {\"label\": \"Measuring Equipment\", \"href\": \"/measuring_equipment\"},\n",
    "    {\"label\": \"Measurement Processes\", \"href\": \"/measurement_processes\"},\n",
    "    {\"label\": \"Measurement Management\", \"href\": \"/measurement_management\"}\n",
    "]\n",
    "\n",
    "# Define the app\n",
    "app = dash.Dash(__name__, suppress_callback_exceptions=True, external_stylesheets=[\"https://stackpath.bootstrapcdn.com/bootstrap/4.3.1/css/bootstrap.min.css\"])\n",
    "\n",
    "# Define the app layout\n",
    "app.layout = html.Div(\n",
    "    [\n",
    "        dcc.Location(id=\"url\", refresh=False),\n",
    "        html.Nav(\n",
    "            className=\"navbar navbar-expand-lg navbar-light bg-light\",\n",
    "            children=[\n",
    "                html.A(\n",
    "                    className=\"navbar-brand\",\n",
    "                    href=\"/\",\n",
    "                    children=\"Gas Station Measurement Management System\"\n",
    "                ),\n",
    "                html.Button(\n",
    "                    className=\"navbar-toggler\",\n",
    "                    type=\"button\",\n",
    "                    **{\"data-toggle\": \"collapse\", \"data-target\": \"#navbarNav\"},\n",
    "                    children=html.Span(className=\"navbar-toggler-icon\")\n",
    "                ),\n",
    "                html.Div(\n",
    "                    className=\"collapse navbar-collapse\",\n",
    "                    id=\"navbarNav\",\n",
    "                    children=html.Ul(\n",
    "                        className=\"navbar-nav ml-auto\",\n",
    "                        children=[\n",
    "                            html.Li(\n",
    "                                className=\"nav-item active\",\n",
    "                                children=html.A(\n",
    "                                    className=\"nav-link\",\n",
    "                                    href=\"/\",\n",
    "                                    children=\"Home\"\n",
    "                                )\n",
    "                            )\n",
    "                        ] + [\n",
    "                            html.Li(\n",
    "                                className=\"nav-item\",\n",
    "                                children=html.A(\n",
    "                                    className=\"nav-link\",\n",
    "                                    href=item[\"href\"],\n",
    "                                    children=item[\"label\"]\n",
    "                                )\n",
    "                            ) for item in menu_items[1:]\n",
    "                        ]\n",
    "                    )\n",
    "                )\n",
    "            ]\n",
    "        ),\n",
    "        html.Div(id=\"page-content\")\n",
    "    ]\n",
    ")\n",
    "\n",
    "# Define the page callbacks\n",
    "@app.callback(dash.dependencies.Output(\"page-content\", \"children\"), [dash.dependencies.Input(\"url\", \"pathname\")])\n",
    "def render_page_content(pathname):\n",
    "    if pathname == \"/\":\n",
    "        return html.H1(\"Welcome to the Gas Station Measurement Management System\")\n",
    "    elif pathname == \"/measuring_equipment\":\n",
    "        return html.H2(\"Measuring Equipment\")\n",
    "    elif pathname == \"/measurement_processes\":\n",
    "        return html.H2(\"Measurement Processes\")\n",
    "    elif pathname == \"/measurement_management\":\n",
    "        return html.H2(\"Measurement Management\")\n",
    "    else:\n",
    "        return html.H1(\"404 - Not found\")\n",
    "\n",
    "# Run the app\n",
    "if __name__ == \"__main__\":\n",
    "    app.run_server(debug=False)\n"
   ]
  },
  {
   "cell_type": "code",
   "execution_count": null,
   "id": "06059bd1-1290-4efb-b40d-0a8bad63ae00",
   "metadata": {
    "tags": []
   },
   "outputs": [
    {
     "name": "stdout",
     "output_type": "stream",
     "text": [
      "Dash is running on http://127.0.0.1:8010/\n",
      "\n",
      "Dash is running on http://127.0.0.1:8010/\n",
      "\n",
      " * Serving Flask app '__main__'\n",
      " * Debug mode: off\n"
     ]
    }
   ],
   "source": [
    "import dash\n",
    "import dash_core_components as dcc\n",
    "import dash_html_components as html\n",
    "import os\n",
    "\n",
    "# Define the menu items\n",
    "menu_items = [\n",
    "    {\"label\": \"Home\", \"href\": \"/\"},\n",
    "    {\"label\": \"Measuring Equipment\", \"href\": \"/measuring_equipment\"},\n",
    "    {\"label\": \"Measurement Processes\", \"href\": \"/measurement_processes\"},\n",
    "    {\"label\": \"Measurement Management\", \"href\": \"/measurement_management\"}\n",
    "]\n",
    "\n",
    "# Define the app\n",
    "app = dash.Dash(__name__, suppress_callback_exceptions=True, external_stylesheets=[\"https://stackpath.bootstrapcdn.com/bootstrap/4.3.1/css/bootstrap.min.css\"])\n",
    "\n",
    "# Define the app layout\n",
    "app.layout = html.Div(\n",
    "    [\n",
    "        dcc.Location(id=\"url\", refresh=False),\n",
    "        html.Nav(\n",
    "            className=\"navbar navbar-expand-lg navbar-light bg-light\",\n",
    "            children=[\n",
    "                html.A(\n",
    "                    className=\"navbar-brand\",\n",
    "                    href=\"/\",\n",
    "                    children=\"Gas Station Measurement Management System\"\n",
    "                ),\n",
    "                html.Button(\n",
    "                    className=\"navbar-toggler\",\n",
    "                    type=\"button\",\n",
    "                    **{\"data-toggle\": \"collapse\", \"data-target\": \"#navbarNav\"},\n",
    "                    children=html.Span(className=\"navbar-toggler-icon\")\n",
    "                ),\n",
    "                html.Div(\n",
    "                    className=\"collapse navbar-collapse\",\n",
    "                    id=\"navbarNav\",\n",
    "                    children=html.Ul(\n",
    "                        className=\"navbar-nav ml-auto\",\n",
    "                        children=[\n",
    "                            html.Li(\n",
    "                                className=\"nav-item active\",\n",
    "                                children=html.A(\n",
    "                                    className=\"nav-link\",\n",
    "                                    href=\"/\",\n",
    "                                    children=\"Home\"\n",
    "                                )\n",
    "                            )\n",
    "                        ] + [\n",
    "                            html.Li(\n",
    "                                className=\"nav-item\",\n",
    "                                children=html.A(\n",
    "                                    className=\"nav-link\",\n",
    "                                    href=item[\"href\"],\n",
    "                                    children=item[\"label\"]\n",
    "                                )\n",
    "                            ) for item in menu_items[1:]\n",
    "                        ]\n",
    "                    )\n",
    "                )\n",
    "            ]\n",
    "        ),\n",
    "        html.Div(id=\"page-content\")\n",
    "    ]\n",
    ")\n",
    "\n",
    "# Define the page callbacks\n",
    "@app.callback(dash.dependencies.Output(\"page-content\", \"children\"), [dash.dependencies.Input(\"url\", \"pathname\")])\n",
    "def render_page_content(pathname):\n",
    "    if pathname == \"/\":\n",
    "        with open('index.md', 'r') as f:\n",
    "            content = f.read()\n",
    "        return dcc.Markdown(children=content)\n",
    "    elif pathname == \"/measuring_equipment\":\n",
    "        return html.H2(\"Measuring Equipment\")\n",
    "    elif pathname == \"/measurement_processes\":\n",
    "        return html.H2(\"Measurement Processes\")\n",
    "    elif pathname == \"/measurement_management\":\n",
    "        return html.H2(\"Measurement Management\")\n",
    "    else:\n",
    "        return html.H1(\"404 - Not found\")\n",
    "\n",
    "# Run the app\n",
    "if __name__ == \"__main__\":\n",
    "    app.run_server(debug=False, port=int(os.environ.get(\"PORT\", 8010)))\n"
   ]
  },
  {
   "cell_type": "code",
   "execution_count": 5,
   "id": "9ab8997b-082b-41e9-84bb-24760c8d3203",
   "metadata": {
    "tags": []
   },
   "outputs": [
    {
     "name": "stderr",
     "output_type": "stream",
     "text": [
      "sh: 1: heroku: not found\n"
     ]
    }
   ],
   "source": [
    "import os\n",
    "from flask import Flask, render_template\n",
    "\n",
    "# Define the Flask app\n",
    "app = Flask(__name__)\n",
    "\n",
    "# Define the index route\n",
    "@app.route('/')\n",
    "def index():\n",
    "    return render_template('index.html')\n",
    "\n",
    "# Define the about route\n",
    "@app.route('/about')\n",
    "def about():\n",
    "    return render_template('about.html')\n",
    "\n",
    "# Define the contact route\n",
    "@app.route('/contact')\n",
    "def contact():\n",
    "    return render_template('contact.html')\n",
    "\n",
    "# Run the app if this file is executed\n",
    "if __name__ == '__main__':\n",
    "    # Run the app locally\n",
    "    if os.environ.get('WERKZEUG_RUN_MAIN') != 'true':\n",
    "        # Set the environment variables needed by the Heroku CLI\n",
    "        os.environ['HEROKU_APP_NAME'] = 'my-app-name'\n",
    "        os.environ['HEROKU_API_KEY'] = 'my-heroku-api-key'\n",
    "        # Start the Heroku CLI local server\n",
    "        os.system('heroku local')\n",
    "    # Run the app on Heroku\n",
    "    else:\n",
    "        app.run(debug=False)\n"
   ]
  },
  {
   "cell_type": "code",
   "execution_count": 4,
   "id": "361d7664-4c10-4a7d-a916-05b4f72ea585",
   "metadata": {
    "tags": []
   },
   "outputs": [
    {
     "name": "stdout",
     "output_type": "stream",
     "text": [
      "Requirement already satisfied: heroku in /usr/local/python/3.10.4/lib/python3.10/site-packages (0.1.4)\n",
      "Collecting python-dateutil==1.5\n",
      "  Using cached python_dateutil-1.5-py3-none-any.whl\n",
      "Requirement already satisfied: requests>=1.0.0 in /home/codespace/.local/lib/python3.10/site-packages (from heroku) (2.28.2)\n",
      "Requirement already satisfied: charset-normalizer<4,>=2 in /home/codespace/.local/lib/python3.10/site-packages (from requests>=1.0.0->heroku) (3.0.1)\n",
      "Requirement already satisfied: certifi>=2017.4.17 in /home/codespace/.local/lib/python3.10/site-packages (from requests>=1.0.0->heroku) (2022.12.7)\n",
      "Requirement already satisfied: urllib3<1.27,>=1.21.1 in /home/codespace/.local/lib/python3.10/site-packages (from requests>=1.0.0->heroku) (1.26.14)\n",
      "Requirement already satisfied: idna<4,>=2.5 in /home/codespace/.local/lib/python3.10/site-packages (from requests>=1.0.0->heroku) (3.4)\n",
      "Installing collected packages: python-dateutil\n",
      "  Attempting uninstall: python-dateutil\n",
      "    Found existing installation: python-dateutil 2.8.2\n",
      "    Uninstalling python-dateutil-2.8.2:\n",
      "      Successfully uninstalled python-dateutil-2.8.2\n",
      "\u001b[31mERROR: pip's dependency resolver does not currently take into account all the packages that are installed. This behaviour is the source of the following dependency conflicts.\n",
      "pandas 1.5.3 requires python-dateutil>=2.8.1, but you have python-dateutil 1.5 which is incompatible.\n",
      "matplotlib 3.7.0 requires python-dateutil>=2.7, but you have python-dateutil 1.5 which is incompatible.\n",
      "jupyter-client 8.0.3 requires python-dateutil>=2.8.2, but you have python-dateutil 1.5 which is incompatible.\n",
      "arrow 1.2.3 requires python-dateutil>=2.7.0, but you have python-dateutil 1.5 which is incompatible.\n",
      "ghp-import 2.1.0 requires python-dateutil>=2.8.1, but you have python-dateutil 1.5 which is incompatible.\u001b[0m\u001b[31m\n",
      "\u001b[0mSuccessfully installed python-dateutil-1.5\n"
     ]
    }
   ],
   "source": [
    "!pip install heroku"
   ]
  },
  {
   "cell_type": "code",
   "execution_count": 3,
   "id": "fabd70e3-353e-42ab-b536-07d40c663dc6",
   "metadata": {
    "tags": []
   },
   "outputs": [
    {
     "name": "stdout",
     "output_type": "stream",
     "text": [
      "Requirement already satisfied: pandas in /home/codespace/.local/lib/python3.10/site-packages (1.5.3)\n",
      "Requirement already satisfied: numpy>=1.21.0 in /home/codespace/.local/lib/python3.10/site-packages (from pandas) (1.24.2)\n",
      "Requirement already satisfied: pytz>=2020.1 in /home/codespace/.local/lib/python3.10/site-packages (from pandas) (2022.7.1)\n",
      "Collecting python-dateutil>=2.8.1\n",
      "  Downloading python_dateutil-2.8.2-py2.py3-none-any.whl (247 kB)\n",
      "\u001b[2K     \u001b[90m━━━━━━━━━━━━━━━━━━━━━━━━━━━━━━━━━━━━━━━\u001b[0m \u001b[32m247.7/247.7 kB\u001b[0m \u001b[31m8.4 MB/s\u001b[0m eta \u001b[36m0:00:00\u001b[0m\n",
      "\u001b[?25hRequirement already satisfied: six>=1.5 in /home/codespace/.local/lib/python3.10/site-packages (from python-dateutil>=2.8.1->pandas) (1.16.0)\n",
      "Installing collected packages: python-dateutil\n",
      "  Attempting uninstall: python-dateutil\n",
      "    Found existing installation: python-dateutil 1.5\n",
      "    Uninstalling python-dateutil-1.5:\n",
      "      Successfully uninstalled python-dateutil-1.5\n",
      "\u001b[31mERROR: pip's dependency resolver does not currently take into account all the packages that are installed. This behaviour is the source of the following dependency conflicts.\n",
      "heroku 0.1.4 requires python-dateutil==1.5, but you have python-dateutil 2.8.2 which is incompatible.\u001b[0m\u001b[31m\n",
      "\u001b[0mSuccessfully installed python-dateutil-2.8.2\n",
      "Requirement already satisfied: matplotlib in /home/codespace/.local/lib/python3.10/site-packages (3.7.0)\n",
      "Requirement already satisfied: python-dateutil>=2.7 in /usr/local/python/3.10.4/lib/python3.10/site-packages (from matplotlib) (2.8.2)\n",
      "Requirement already satisfied: cycler>=0.10 in /home/codespace/.local/lib/python3.10/site-packages (from matplotlib) (0.11.0)\n",
      "Requirement already satisfied: pillow>=6.2.0 in /home/codespace/.local/lib/python3.10/site-packages (from matplotlib) (9.4.0)\n",
      "Requirement already satisfied: contourpy>=1.0.1 in /home/codespace/.local/lib/python3.10/site-packages (from matplotlib) (1.0.7)\n",
      "Requirement already satisfied: kiwisolver>=1.0.1 in /home/codespace/.local/lib/python3.10/site-packages (from matplotlib) (1.4.4)\n",
      "Requirement already satisfied: fonttools>=4.22.0 in /home/codespace/.local/lib/python3.10/site-packages (from matplotlib) (4.38.0)\n",
      "Requirement already satisfied: pyparsing>=2.3.1 in /home/codespace/.local/lib/python3.10/site-packages (from matplotlib) (3.0.9)\n",
      "Requirement already satisfied: packaging>=20.0 in /home/codespace/.local/lib/python3.10/site-packages (from matplotlib) (23.0)\n",
      "Requirement already satisfied: numpy>=1.20 in /home/codespace/.local/lib/python3.10/site-packages (from matplotlib) (1.24.2)\n",
      "Requirement already satisfied: six>=1.5 in /home/codespace/.local/lib/python3.10/site-packages (from python-dateutil>=2.7->matplotlib) (1.16.0)\n",
      "Requirement already satisfied: jupyter-client in /home/codespace/.local/lib/python3.10/site-packages (8.0.3)\n",
      "Requirement already satisfied: traitlets>=5.3 in /home/codespace/.local/lib/python3.10/site-packages (from jupyter-client) (5.9.0)\n",
      "Requirement already satisfied: tornado>=6.2 in /home/codespace/.local/lib/python3.10/site-packages (from jupyter-client) (6.2)\n",
      "Requirement already satisfied: jupyter-core!=5.0.*,>=4.12 in /home/codespace/.local/lib/python3.10/site-packages (from jupyter-client) (5.2.0)\n",
      "Requirement already satisfied: python-dateutil>=2.8.2 in /usr/local/python/3.10.4/lib/python3.10/site-packages (from jupyter-client) (2.8.2)\n",
      "Requirement already satisfied: pyzmq>=23.0 in /home/codespace/.local/lib/python3.10/site-packages (from jupyter-client) (25.0.0)\n",
      "Requirement already satisfied: platformdirs>=2.5 in /home/codespace/.local/lib/python3.10/site-packages (from jupyter-core!=5.0.*,>=4.12->jupyter-client) (3.1.0)\n",
      "Requirement already satisfied: six>=1.5 in /home/codespace/.local/lib/python3.10/site-packages (from python-dateutil>=2.8.2->jupyter-client) (1.16.0)\n",
      "Requirement already satisfied: arrow in /home/codespace/.local/lib/python3.10/site-packages (1.2.3)\n",
      "Requirement already satisfied: python-dateutil>=2.7.0 in /usr/local/python/3.10.4/lib/python3.10/site-packages (from arrow) (2.8.2)\n",
      "Requirement already satisfied: six>=1.5 in /home/codespace/.local/lib/python3.10/site-packages (from python-dateutil>=2.7.0->arrow) (1.16.0)\n",
      "Requirement already satisfied: ghp-import in /usr/local/python/3.10.4/lib/python3.10/site-packages (2.1.0)\n",
      "Requirement already satisfied: python-dateutil>=2.8.1 in /usr/local/python/3.10.4/lib/python3.10/site-packages (from ghp-import) (2.8.2)\n",
      "Requirement already satisfied: six>=1.5 in /home/codespace/.local/lib/python3.10/site-packages (from python-dateutil>=2.8.1->ghp-import) (1.16.0)\n"
     ]
    }
   ],
   "source": [
    "!pip install pandas\n",
    "!pip install matplotlib\n",
    "!pip install jupyter-client\n",
    "!pip install arrow\n",
    "!pip install ghp-import"
   ]
  },
  {
   "cell_type": "code",
   "execution_count": 6,
   "id": "de87a15d-75f8-45df-8c8c-ce3ca9991825",
   "metadata": {
    "tags": []
   },
   "outputs": [
    {
     "name": "stdout",
     "output_type": "stream",
     "text": [
      "Collecting asciidoc\n",
      "  Downloading asciidoc-10.2.0-py2.py3-none-any.whl (272 kB)\n",
      "\u001b[2K     \u001b[90m━━━━━━━━━━━━━━━━━━━━━━━━━━━━━━━━━━━━━━━\u001b[0m \u001b[32m272.4/272.4 kB\u001b[0m \u001b[31m8.3 MB/s\u001b[0m eta \u001b[36m0:00:00\u001b[0m\n",
      "\u001b[?25h\u001b[31mERROR: Could not find a version that satisfies the requirement xmlto (from versions: none)\u001b[0m\u001b[31m\n",
      "\u001b[0m\u001b[31mERROR: No matching distribution found for xmlto\u001b[0m\u001b[31m\n",
      "\u001b[0m"
     ]
    }
   ],
   "source": [
    "!pip install asciidoc xmlto docbook2X"
   ]
  },
  {
   "cell_type": "code",
   "execution_count": 7,
   "id": "370be6b3-dacb-44e6-9957-c97c173390b7",
   "metadata": {
    "tags": []
   },
   "outputs": [
    {
     "name": "stdout",
     "output_type": "stream",
     "text": [
      "\u001b[31mERROR: Could not find a version that satisfies the requirement getopt (from versions: none)\u001b[0m\u001b[31m\n",
      "\u001b[0m\u001b[31mERROR: No matching distribution found for getopt\u001b[0m\u001b[31m\n",
      "\u001b[0m"
     ]
    }
   ],
   "source": [
    "!pip install getopt"
   ]
  },
  {
   "cell_type": "code",
   "execution_count": 8,
   "id": "7ec54b05-33d1-4457-aaa8-9dc4a41c3f07",
   "metadata": {
    "tags": []
   },
   "outputs": [
    {
     "name": "stdout",
     "output_type": "stream",
     "text": [
      "\u001b[31mERROR: Could not find a version that satisfies the requirement install-doc (from versions: none)\u001b[0m\u001b[31m\n",
      "\u001b[0m\u001b[31mERROR: No matching distribution found for install-doc\u001b[0m\u001b[31m\n",
      "\u001b[0m"
     ]
    }
   ],
   "source": [
    "!pip install install-doc install-html install-info"
   ]
  },
  {
   "cell_type": "code",
   "execution_count": 10,
   "id": "e781d954-bd96-4adb-8680-caa6adf01fde",
   "metadata": {
    "tags": []
   },
   "outputs": [
    {
     "name": "stdout",
     "output_type": "stream",
     "text": [
      "Cloning into 'git'...\n",
      "remote: Enumerating objects: 2902, done.\u001b[K\n",
      "remote: Counting objects: 100% (2902/2902), done.\u001b[K\n",
      "remote: Compressing objects: 100% (296/296), done.\u001b[K\n",
      "remote: Total 342635 (delta 2730), reused 2701 (delta 2606), pack-reused 339733\u001b[K\n",
      "Receiving objects: 100% (342635/342635), 113.00 MiB | 28.35 MiB/s, done.\n",
      "Resolving deltas: 100% (256742/256742), done.\n"
     ]
    }
   ],
   "source": [
    "!git clone git://git.kernel.org/pub/scm/git/git.git"
   ]
  },
  {
   "cell_type": "code",
   "execution_count": 11,
   "id": "cf471af4-32e7-43c3-833f-8aae825a2150",
   "metadata": {
    "tags": []
   },
   "outputs": [
    {
     "name": "stdout",
     "output_type": "stream",
     "text": [
      "file:/etc/gitconfig\tfilter.lfs.clean=git-lfs clean -- %f\n",
      "file:/etc/gitconfig\tfilter.lfs.smudge=git-lfs smudge -- %f\n",
      "file:/etc/gitconfig\tfilter.lfs.process=git-lfs filter-process\n",
      "file:/etc/gitconfig\tfilter.lfs.required=true\n",
      "file:/etc/gitconfig\tcredential.helper=/.codespaces/bin/gitcredential_github.sh\n",
      "file:/etc/gitconfig\tuser.name=MASR27\n",
      "file:/etc/gitconfig\tuser.email=47757802+MASR27@users.noreply.github.com\n",
      "file:/etc/gitconfig\tgpg.program=/.codespaces/bin/gh-gpgsign\n",
      "file:/etc/gitconfig\tinit.defaultbranch=main\n",
      "file:.git/config\tcore.repositoryformatversion=0\n",
      "file:.git/config\tcore.filemode=true\n",
      "file:.git/config\tcore.bare=false\n",
      "file:.git/config\tcore.logallrefupdates=true\n",
      "file:.git/config\tremote.origin.url=https://github.com/MASR27/NMQ\n",
      "file:.git/config\tremote.origin.fetch=+refs/heads/*:refs/remotes/origin/*\n",
      "file:.git/config\tbranch.main.remote=origin\n",
      "file:.git/config\tbranch.main.merge=refs/heads/main\n"
     ]
    }
   ],
   "source": [
    "!git config --list --show-origin"
   ]
  },
  {
   "cell_type": "code",
   "execution_count": 12,
   "id": "09873ce8-8622-43b9-bf1a-f2c92280d84d",
   "metadata": {
    "tags": []
   },
   "outputs": [],
   "source": [
    "!git config --global user.name \"MASR27\""
   ]
  },
  {
   "cell_type": "code",
   "execution_count": 14,
   "id": "174a08ad-86d8-4482-a2c2-8180843e6bc5",
   "metadata": {
    "tags": []
   },
   "outputs": [],
   "source": [
    "!git config --global user.email 47757802+MASR27@users.noreply.github.com"
   ]
  },
  {
   "cell_type": "code",
   "execution_count": 17,
   "id": "9fea2328-a188-4268-86fc-39dd1c3f57e4",
   "metadata": {
    "tags": []
   },
   "outputs": [
    {
     "name": "stdout",
     "output_type": "stream",
     "text": [
      "Collecting homebrew\n",
      "  Downloading homebrew-0.2.5-py3-none-any.whl (4.8 kB)\n",
      "Installing collected packages: homebrew\n",
      "Successfully installed homebrew-0.2.5\n"
     ]
    }
   ],
   "source": [
    "!pip install homebrew"
   ]
  },
  {
   "cell_type": "code",
   "execution_count": 19,
   "id": "5eb58763-548b-46a1-8eb2-bc70971cae9f",
   "metadata": {
    "tags": []
   },
   "outputs": [
    {
     "name": "stdout",
     "output_type": "stream",
     "text": [
      "/bin/bash: brew: command not found\n"
     ]
    }
   ],
   "source": [
    "!brew tap heroku/brew && brew install heroku"
   ]
  },
  {
   "cell_type": "code",
   "execution_count": 20,
   "id": "212f6f08-4c11-4661-854b-d2c717f9374b",
   "metadata": {
    "tags": []
   },
   "outputs": [
    {
     "name": "stdout",
     "output_type": "stream",
     "text": [
      "/bin/bash: brew: command not found\n"
     ]
    }
   ],
   "source": [
    "!brew install wget\n"
   ]
  },
  {
   "cell_type": "code",
   "execution_count": 22,
   "id": "7f8512de-1360-4d02-b8c2-23ac288d7c11",
   "metadata": {
    "tags": []
   },
   "outputs": [
    {
     "ename": "FileNotFoundError",
     "evalue": "[Errno 2] No such file or directory: 'public/index.html'",
     "output_type": "error",
     "traceback": [
      "\u001b[0;31m---------------------------------------------------------------------------\u001b[0m",
      "\u001b[0;31mFileNotFoundError\u001b[0m                         Traceback (most recent call last)",
      "Cell \u001b[0;32mIn[22], line 83\u001b[0m\n\u001b[1;32m     80\u001b[0m \u001b[38;5;66;03m# Run the app if this file is executed\u001b[39;00m\n\u001b[1;32m     81\u001b[0m \u001b[38;5;28;01mif\u001b[39;00m \u001b[38;5;18m__name__\u001b[39m \u001b[38;5;241m==\u001b[39m \u001b[38;5;124m'\u001b[39m\u001b[38;5;124m__main__\u001b[39m\u001b[38;5;124m'\u001b[39m:\n\u001b[1;32m     82\u001b[0m     \u001b[38;5;66;03m# Save the app to an HTML file in the public directory\u001b[39;00m\n\u001b[0;32m---> 83\u001b[0m     \u001b[38;5;28;01mwith\u001b[39;00m \u001b[38;5;28;43mopen\u001b[39;49m\u001b[43m(\u001b[49m\u001b[38;5;124;43m'\u001b[39;49m\u001b[38;5;124;43mpublic/index.html\u001b[39;49m\u001b[38;5;124;43m'\u001b[39;49m\u001b[43m,\u001b[49m\u001b[43m \u001b[49m\u001b[38;5;124;43m'\u001b[39;49m\u001b[38;5;124;43mw\u001b[39;49m\u001b[38;5;124;43m'\u001b[39;49m\u001b[43m)\u001b[49m \u001b[38;5;28;01mas\u001b[39;00m file:\n\u001b[1;32m     84\u001b[0m         file\u001b[38;5;241m.\u001b[39mwrite(app\u001b[38;5;241m.\u001b[39mindex_string)\n\u001b[1;32m     85\u001b[0m     \u001b[38;5;66;03m# Run the app locally if running on the Firebase Jupyter console\u001b[39;00m\n",
      "File \u001b[0;32m~/.local/lib/python3.10/site-packages/IPython/core/interactiveshell.py:282\u001b[0m, in \u001b[0;36m_modified_open\u001b[0;34m(file, *args, **kwargs)\u001b[0m\n\u001b[1;32m    275\u001b[0m \u001b[38;5;28;01mif\u001b[39;00m file \u001b[38;5;129;01min\u001b[39;00m {\u001b[38;5;241m0\u001b[39m, \u001b[38;5;241m1\u001b[39m, \u001b[38;5;241m2\u001b[39m}:\n\u001b[1;32m    276\u001b[0m     \u001b[38;5;28;01mraise\u001b[39;00m \u001b[38;5;167;01mValueError\u001b[39;00m(\n\u001b[1;32m    277\u001b[0m         \u001b[38;5;124mf\u001b[39m\u001b[38;5;124m\"\u001b[39m\u001b[38;5;124mIPython won\u001b[39m\u001b[38;5;124m'\u001b[39m\u001b[38;5;124mt let you open fd=\u001b[39m\u001b[38;5;132;01m{\u001b[39;00mfile\u001b[38;5;132;01m}\u001b[39;00m\u001b[38;5;124m by default \u001b[39m\u001b[38;5;124m\"\u001b[39m\n\u001b[1;32m    278\u001b[0m         \u001b[38;5;124m\"\u001b[39m\u001b[38;5;124mas it is likely to crash IPython. If you know what you are doing, \u001b[39m\u001b[38;5;124m\"\u001b[39m\n\u001b[1;32m    279\u001b[0m         \u001b[38;5;124m\"\u001b[39m\u001b[38;5;124myou can use builtins\u001b[39m\u001b[38;5;124m'\u001b[39m\u001b[38;5;124m open.\u001b[39m\u001b[38;5;124m\"\u001b[39m\n\u001b[1;32m    280\u001b[0m     )\n\u001b[0;32m--> 282\u001b[0m \u001b[38;5;28;01mreturn\u001b[39;00m \u001b[43mio_open\u001b[49m\u001b[43m(\u001b[49m\u001b[43mfile\u001b[49m\u001b[43m,\u001b[49m\u001b[43m \u001b[49m\u001b[38;5;241;43m*\u001b[39;49m\u001b[43margs\u001b[49m\u001b[43m,\u001b[49m\u001b[43m \u001b[49m\u001b[38;5;241;43m*\u001b[39;49m\u001b[38;5;241;43m*\u001b[39;49m\u001b[43mkwargs\u001b[49m\u001b[43m)\u001b[49m\n",
      "\u001b[0;31mFileNotFoundError\u001b[0m: [Errno 2] No such file or directory: 'public/index.html'"
     ]
    }
   ],
   "source": [
    "import dash\n",
    "import dash_core_components as dcc\n",
    "import dash_html_components as html\n",
    "import os\n",
    "\n",
    "# Define the menu items\n",
    "menu_items = [\n",
    "    {\"label\": \"Home\", \"href\": \"/\"},\n",
    "    {\"label\": \"Measuring Equipment\", \"href\": \"/measuring_equipment\"},\n",
    "    {\"label\": \"Measurement Processes\", \"href\": \"/measurement_processes\"},\n",
    "    {\"label\": \"Measurement Management\", \"href\": \"/measurement_management\"}\n",
    "]\n",
    "\n",
    "# Define the app\n",
    "app = dash.Dash(__name__)\n",
    "\n",
    "# Define the app layout\n",
    "app.layout = html.Div(\n",
    "    [\n",
    "        html.Nav(\n",
    "            className=\"navbar navbar-expand-lg navbar-light bg-light\",\n",
    "            children=[\n",
    "                html.A(\n",
    "                    className=\"navbar-brand\",\n",
    "                    href=\"/\",\n",
    "                    children=\"Gas Station Measurement Management System\"\n",
    "                ),\n",
    "                html.Button(\n",
    "                    className=\"navbar-toggler\",\n",
    "                    type=\"button\",\n",
    "                    **{\"data-toggle\": \"collapse\", \"data-target\": \"#navbarNav\"},\n",
    "                    children=html.Span(className=\"navbar-toggler-icon\")\n",
    "                ),\n",
    "                html.Div(\n",
    "                    className=\"collapse navbar-collapse\",\n",
    "                    id=\"navbarNav\",\n",
    "                    children=html.Ul(\n",
    "                        className=\"navbar-nav ml-auto\",\n",
    "                        children=[\n",
    "                            html.Li(\n",
    "                                className=\"nav-item active\",\n",
    "                                children=html.A(\n",
    "                                    className=\"nav-link\",\n",
    "                                    href=\"/\",\n",
    "                                    children=\"Home\"\n",
    "                                )\n",
    "                            )\n",
    "                        ] + [\n",
    "                            html.Li(\n",
    "                                className=\"nav-item\",\n",
    "                                children=html.A(\n",
    "                                    className=\"nav-link\",\n",
    "                                    href=item[\"href\"],\n",
    "                                    children=item[\"label\"]\n",
    "                                )\n",
    "                            ) for item in menu_items[1:]\n",
    "                        ]\n",
    "                    )\n",
    "                )\n",
    "            ]\n",
    "        ),\n",
    "        html.Div(id=\"page-content\")\n",
    "    ]\n",
    ")\n",
    "\n",
    "# Define the page callbacks\n",
    "@app.callback(dash.dependencies.Output(\"page-content\", \"children\"), [dash.dependencies.Input(\"url\", \"pathname\")])\n",
    "def render_page_content(pathname):\n",
    "    if pathname == \"/\":\n",
    "        return html.H1(\"Welcome to the Gas Station Measurement Management System!\")\n",
    "    elif pathname == \"/measuring_equipment\":\n",
    "        return html.H1(\"Measuring Equipment\")\n",
    "    elif pathname == \"/measurement_processes\":\n",
    "        return html.H1(\"Measurement Processes\")\n",
    "    elif pathname == \"/measurement_management\":\n",
    "        return html.H1(\"Measurement Management\")\n",
    "    else:\n",
    "        return html.H1(\"404 Page Not Found\")\n",
    "\n",
    "# Run the app if this file is executed\n",
    "if __name__ == '__main__':\n",
    "    # Save the app to an HTML file in the public directory\n",
    "    with open('public/index.html', 'w') as file:\n",
    "        file.write(app.index_string)\n",
    "    # Run the app locally if running on the Firebase Jupyter console\n",
    "    if os.getenv('GAE_ENV', '').startswith('standard'):\n",
    "        app.run_server(port=8080, host='0.0.0.0')\n"
   ]
  },
  {
   "cell_type": "code",
   "execution_count": 25,
   "id": "eef6394b-2537-412d-8a00-df2d4afd2261",
   "metadata": {
    "tags": []
   },
   "outputs": [
    {
     "ename": "NameError",
     "evalue": "name 'context' is not defined",
     "output_type": "error",
     "traceback": [
      "\u001b[0;31m---------------------------------------------------------------------------\u001b[0m",
      "\u001b[0;31mNameError\u001b[0m                                 Traceback (most recent call last)",
      "Cell \u001b[0;32mIn[25], line 18\u001b[0m\n\u001b[1;32m     15\u001b[0m \u001b[38;5;28;01mif\u001b[39;00m \u001b[38;5;18m__name__\u001b[39m \u001b[38;5;241m==\u001b[39m \u001b[38;5;124m'\u001b[39m\u001b[38;5;124m__main__\u001b[39m\u001b[38;5;124m'\u001b[39m:\n\u001b[1;32m     16\u001b[0m     \u001b[38;5;66;03m# Render the template and save to an HTML file in the public directory\u001b[39;00m\n\u001b[1;32m     17\u001b[0m     \u001b[38;5;28;01mwith\u001b[39;00m app\u001b[38;5;241m.\u001b[39mapp_context():\n\u001b[0;32m---> 18\u001b[0m         html \u001b[38;5;241m=\u001b[39m render_template(\u001b[38;5;124m'\u001b[39m\u001b[38;5;124mindex.html\u001b[39m\u001b[38;5;124m'\u001b[39m, \u001b[38;5;241m*\u001b[39m\u001b[38;5;241m*\u001b[39m\u001b[43mcontext\u001b[49m)\n\u001b[1;32m     19\u001b[0m         \u001b[38;5;28;01mwith\u001b[39;00m \u001b[38;5;28mopen\u001b[39m(\u001b[38;5;124m'\u001b[39m\u001b[38;5;124mpublic/index.html\u001b[39m\u001b[38;5;124m'\u001b[39m, \u001b[38;5;124m'\u001b[39m\u001b[38;5;124mw\u001b[39m\u001b[38;5;124m'\u001b[39m) \u001b[38;5;28;01mas\u001b[39;00m f:\n\u001b[1;32m     20\u001b[0m             f\u001b[38;5;241m.\u001b[39mwrite(html)\n",
      "\u001b[0;31mNameError\u001b[0m: name 'context' is not defined"
     ]
    }
   ],
   "source": [
    "import os\n",
    "from flask import Flask, render_template\n",
    "\n",
    "# Define the Flask app\n",
    "app = Flask(__name__)\n",
    "\n",
    "# Define the index route\n",
    "@app.route('/')\n",
    "def index():\n",
    "    # Render the Jinja2 template\n",
    "    context = {\"title\": \"ISO 10012:2003 Measurement Management System for Gas Stations\"}\n",
    "    return render_template('index.html', **context)\n",
    "\n",
    "# Run the app if this file is executed\n",
    "if __name__ == '__main__':\n",
    "    # Render the template and save to an HTML file in the public directory\n",
    "    with app.app_context():\n",
    "        html = render_template('index.html', **context)\n",
    "        with open('public/index.html', 'w') as f:\n",
    "            f.write(html)\n"
   ]
  },
  {
   "cell_type": "code",
   "execution_count": 24,
   "id": "3bca19da-fa6e-4755-9f7a-6f566c8f57e1",
   "metadata": {
    "tags": []
   },
   "outputs": [
    {
     "name": "stdout",
     "output_type": "stream",
     "text": [
      "Collecting jinja\n",
      "  Downloading Jinja-1.2.tar.gz (252 kB)\n",
      "\u001b[2K     \u001b[90m━━━━━━━━━━━━━━━━━━━━━━━━━━━━━━━━━━━━━━━\u001b[0m \u001b[32m252.9/252.9 kB\u001b[0m \u001b[31m8.3 MB/s\u001b[0m eta \u001b[36m0:00:00\u001b[0m\n",
      "\u001b[?25h  Preparing metadata (setup.py) ... \u001b[?25lerror\n",
      "  \u001b[1;31merror\u001b[0m: \u001b[1msubprocess-exited-with-error\u001b[0m\n",
      "  \n",
      "  \u001b[31m×\u001b[0m \u001b[32mpython setup.py egg_info\u001b[0m did not run successfully.\n",
      "  \u001b[31m│\u001b[0m exit code: \u001b[1;36m1\u001b[0m\n",
      "  \u001b[31m╰─>\u001b[0m \u001b[31m[7 lines of output]\u001b[0m\n",
      "  \u001b[31m   \u001b[0m Traceback (most recent call last):\n",
      "  \u001b[31m   \u001b[0m   File \"<string>\", line 2, in <module>\n",
      "  \u001b[31m   \u001b[0m   File \"<pip-setuptools-caller>\", line 34, in <module>\n",
      "  \u001b[31m   \u001b[0m   File \"/tmp/pip-install-x_7ehdtw/jinja_b3d98fdfd0cc404ca50203132bef397a/setup.py\", line 28\n",
      "  \u001b[31m   \u001b[0m     except DistutilsError, e:\n",
      "  \u001b[31m   \u001b[0m            ^^^^^^^^^^^^^^^^^\n",
      "  \u001b[31m   \u001b[0m SyntaxError: multiple exception types must be parenthesized\n",
      "  \u001b[31m   \u001b[0m \u001b[31m[end of output]\u001b[0m\n",
      "  \n",
      "  \u001b[1;35mnote\u001b[0m: This error originates from a subprocess, and is likely not a problem with pip.\n",
      "\u001b[1;31merror\u001b[0m: \u001b[1mmetadata-generation-failed\u001b[0m\n",
      "\n",
      "\u001b[31m×\u001b[0m Encountered error while generating package metadata.\n",
      "\u001b[31m╰─>\u001b[0m See above for output.\n",
      "\n",
      "\u001b[1;35mnote\u001b[0m: This is an issue with the package mentioned above, not pip.\n",
      "\u001b[1;36mhint\u001b[0m: See above for details.\n",
      "\u001b[?25h"
     ]
    }
   ],
   "source": [
    "!pip install jinja"
   ]
  },
  {
   "cell_type": "code",
   "execution_count": 26,
   "id": "39368d1c-1bd9-44ca-98ff-afb60db41147",
   "metadata": {
    "tags": []
   },
   "outputs": [
    {
     "ename": "TemplateNotFound",
     "evalue": "index.html",
     "output_type": "error",
     "traceback": [
      "\u001b[0;31m---------------------------------------------------------------------------\u001b[0m",
      "\u001b[0;31mTemplateNotFound\u001b[0m                          Traceback (most recent call last)",
      "Cell \u001b[0;32mIn[26], line 19\u001b[0m\n\u001b[1;32m     17\u001b[0m \u001b[38;5;28;01mwith\u001b[39;00m app\u001b[38;5;241m.\u001b[39mapp_context():\n\u001b[1;32m     18\u001b[0m     context \u001b[38;5;241m=\u001b[39m {\u001b[38;5;124m\"\u001b[39m\u001b[38;5;124mtitle\u001b[39m\u001b[38;5;124m\"\u001b[39m: \u001b[38;5;124m\"\u001b[39m\u001b[38;5;124mISO 10012:2003 Measurement Management System for Gas Stations\u001b[39m\u001b[38;5;124m\"\u001b[39m}\n\u001b[0;32m---> 19\u001b[0m     html \u001b[38;5;241m=\u001b[39m \u001b[43mrender_template\u001b[49m\u001b[43m(\u001b[49m\u001b[38;5;124;43m'\u001b[39;49m\u001b[38;5;124;43mindex.html\u001b[39;49m\u001b[38;5;124;43m'\u001b[39;49m\u001b[43m,\u001b[49m\u001b[43m \u001b[49m\u001b[38;5;241;43m*\u001b[39;49m\u001b[38;5;241;43m*\u001b[39;49m\u001b[43mcontext\u001b[49m\u001b[43m)\u001b[49m\n\u001b[1;32m     20\u001b[0m     \u001b[38;5;28;01mwith\u001b[39;00m \u001b[38;5;28mopen\u001b[39m(\u001b[38;5;124m'\u001b[39m\u001b[38;5;124mpublic/index.html\u001b[39m\u001b[38;5;124m'\u001b[39m, \u001b[38;5;124m'\u001b[39m\u001b[38;5;124mw\u001b[39m\u001b[38;5;124m'\u001b[39m) \u001b[38;5;28;01mas\u001b[39;00m f:\n\u001b[1;32m     21\u001b[0m         f\u001b[38;5;241m.\u001b[39mwrite(html)\n",
      "File \u001b[0;32m/usr/local/python/3.10.4/lib/python3.10/site-packages/flask/templating.py:146\u001b[0m, in \u001b[0;36mrender_template\u001b[0;34m(template_name_or_list, **context)\u001b[0m\n\u001b[1;32m    139\u001b[0m \u001b[38;5;250m\u001b[39m\u001b[38;5;124;03m\"\"\"Render a template by name with the given context.\u001b[39;00m\n\u001b[1;32m    140\u001b[0m \n\u001b[1;32m    141\u001b[0m \u001b[38;5;124;03m:param template_name_or_list: The name of the template to render. If\u001b[39;00m\n\u001b[1;32m    142\u001b[0m \u001b[38;5;124;03m    a list is given, the first name to exist will be rendered.\u001b[39;00m\n\u001b[1;32m    143\u001b[0m \u001b[38;5;124;03m:param context: The variables to make available in the template.\u001b[39;00m\n\u001b[1;32m    144\u001b[0m \u001b[38;5;124;03m\"\"\"\u001b[39;00m\n\u001b[1;32m    145\u001b[0m app \u001b[38;5;241m=\u001b[39m current_app\u001b[38;5;241m.\u001b[39m_get_current_object()  \u001b[38;5;66;03m# type: ignore[attr-defined]\u001b[39;00m\n\u001b[0;32m--> 146\u001b[0m template \u001b[38;5;241m=\u001b[39m \u001b[43mapp\u001b[49m\u001b[38;5;241;43m.\u001b[39;49m\u001b[43mjinja_env\u001b[49m\u001b[38;5;241;43m.\u001b[39;49m\u001b[43mget_or_select_template\u001b[49m\u001b[43m(\u001b[49m\u001b[43mtemplate_name_or_list\u001b[49m\u001b[43m)\u001b[49m\n\u001b[1;32m    147\u001b[0m \u001b[38;5;28;01mreturn\u001b[39;00m _render(app, template, context)\n",
      "File \u001b[0;32m~/.local/lib/python3.10/site-packages/jinja2/environment.py:1081\u001b[0m, in \u001b[0;36mEnvironment.get_or_select_template\u001b[0;34m(self, template_name_or_list, parent, globals)\u001b[0m\n\u001b[1;32m   1075\u001b[0m \u001b[38;5;250m\u001b[39m\u001b[38;5;124;03m\"\"\"Use :meth:`select_template` if an iterable of template names\u001b[39;00m\n\u001b[1;32m   1076\u001b[0m \u001b[38;5;124;03mis given, or :meth:`get_template` if one name is given.\u001b[39;00m\n\u001b[1;32m   1077\u001b[0m \n\u001b[1;32m   1078\u001b[0m \u001b[38;5;124;03m.. versionadded:: 2.3\u001b[39;00m\n\u001b[1;32m   1079\u001b[0m \u001b[38;5;124;03m\"\"\"\u001b[39;00m\n\u001b[1;32m   1080\u001b[0m \u001b[38;5;28;01mif\u001b[39;00m \u001b[38;5;28misinstance\u001b[39m(template_name_or_list, (\u001b[38;5;28mstr\u001b[39m, Undefined)):\n\u001b[0;32m-> 1081\u001b[0m     \u001b[38;5;28;01mreturn\u001b[39;00m \u001b[38;5;28;43mself\u001b[39;49m\u001b[38;5;241;43m.\u001b[39;49m\u001b[43mget_template\u001b[49m\u001b[43m(\u001b[49m\u001b[43mtemplate_name_or_list\u001b[49m\u001b[43m,\u001b[49m\u001b[43m \u001b[49m\u001b[43mparent\u001b[49m\u001b[43m,\u001b[49m\u001b[43m \u001b[49m\u001b[38;5;28;43mglobals\u001b[39;49m\u001b[43m)\u001b[49m\n\u001b[1;32m   1082\u001b[0m \u001b[38;5;28;01melif\u001b[39;00m \u001b[38;5;28misinstance\u001b[39m(template_name_or_list, Template):\n\u001b[1;32m   1083\u001b[0m     \u001b[38;5;28;01mreturn\u001b[39;00m template_name_or_list\n",
      "File \u001b[0;32m~/.local/lib/python3.10/site-packages/jinja2/environment.py:1010\u001b[0m, in \u001b[0;36mEnvironment.get_template\u001b[0;34m(self, name, parent, globals)\u001b[0m\n\u001b[1;32m   1007\u001b[0m \u001b[38;5;28;01mif\u001b[39;00m parent \u001b[38;5;129;01mis\u001b[39;00m \u001b[38;5;129;01mnot\u001b[39;00m \u001b[38;5;28;01mNone\u001b[39;00m:\n\u001b[1;32m   1008\u001b[0m     name \u001b[38;5;241m=\u001b[39m \u001b[38;5;28mself\u001b[39m\u001b[38;5;241m.\u001b[39mjoin_path(name, parent)\n\u001b[0;32m-> 1010\u001b[0m \u001b[38;5;28;01mreturn\u001b[39;00m \u001b[38;5;28;43mself\u001b[39;49m\u001b[38;5;241;43m.\u001b[39;49m\u001b[43m_load_template\u001b[49m\u001b[43m(\u001b[49m\u001b[43mname\u001b[49m\u001b[43m,\u001b[49m\u001b[43m \u001b[49m\u001b[38;5;28;43mglobals\u001b[39;49m\u001b[43m)\u001b[49m\n",
      "File \u001b[0;32m~/.local/lib/python3.10/site-packages/jinja2/environment.py:969\u001b[0m, in \u001b[0;36mEnvironment._load_template\u001b[0;34m(self, name, globals)\u001b[0m\n\u001b[1;32m    965\u001b[0m             template\u001b[38;5;241m.\u001b[39mglobals\u001b[38;5;241m.\u001b[39mupdate(\u001b[38;5;28mglobals\u001b[39m)\n\u001b[1;32m    967\u001b[0m         \u001b[38;5;28;01mreturn\u001b[39;00m template\n\u001b[0;32m--> 969\u001b[0m template \u001b[38;5;241m=\u001b[39m \u001b[38;5;28;43mself\u001b[39;49m\u001b[38;5;241;43m.\u001b[39;49m\u001b[43mloader\u001b[49m\u001b[38;5;241;43m.\u001b[39;49m\u001b[43mload\u001b[49m\u001b[43m(\u001b[49m\u001b[38;5;28;43mself\u001b[39;49m\u001b[43m,\u001b[49m\u001b[43m \u001b[49m\u001b[43mname\u001b[49m\u001b[43m,\u001b[49m\u001b[43m \u001b[49m\u001b[38;5;28;43mself\u001b[39;49m\u001b[38;5;241;43m.\u001b[39;49m\u001b[43mmake_globals\u001b[49m\u001b[43m(\u001b[49m\u001b[38;5;28;43mglobals\u001b[39;49m\u001b[43m)\u001b[49m\u001b[43m)\u001b[49m\n\u001b[1;32m    971\u001b[0m \u001b[38;5;28;01mif\u001b[39;00m \u001b[38;5;28mself\u001b[39m\u001b[38;5;241m.\u001b[39mcache \u001b[38;5;129;01mis\u001b[39;00m \u001b[38;5;129;01mnot\u001b[39;00m \u001b[38;5;28;01mNone\u001b[39;00m:\n\u001b[1;32m    972\u001b[0m     \u001b[38;5;28mself\u001b[39m\u001b[38;5;241m.\u001b[39mcache[cache_key] \u001b[38;5;241m=\u001b[39m template\n",
      "File \u001b[0;32m~/.local/lib/python3.10/site-packages/jinja2/loaders.py:126\u001b[0m, in \u001b[0;36mBaseLoader.load\u001b[0;34m(self, environment, name, globals)\u001b[0m\n\u001b[1;32m    122\u001b[0m     \u001b[38;5;28mglobals\u001b[39m \u001b[38;5;241m=\u001b[39m {}\n\u001b[1;32m    124\u001b[0m \u001b[38;5;66;03m# first we try to get the source for this template together\u001b[39;00m\n\u001b[1;32m    125\u001b[0m \u001b[38;5;66;03m# with the filename and the uptodate function.\u001b[39;00m\n\u001b[0;32m--> 126\u001b[0m source, filename, uptodate \u001b[38;5;241m=\u001b[39m \u001b[38;5;28;43mself\u001b[39;49m\u001b[38;5;241;43m.\u001b[39;49m\u001b[43mget_source\u001b[49m\u001b[43m(\u001b[49m\u001b[43menvironment\u001b[49m\u001b[43m,\u001b[49m\u001b[43m \u001b[49m\u001b[43mname\u001b[49m\u001b[43m)\u001b[49m\n\u001b[1;32m    128\u001b[0m \u001b[38;5;66;03m# try to load the code from the bytecode cache if there is a\u001b[39;00m\n\u001b[1;32m    129\u001b[0m \u001b[38;5;66;03m# bytecode cache configured.\u001b[39;00m\n\u001b[1;32m    130\u001b[0m bcc \u001b[38;5;241m=\u001b[39m environment\u001b[38;5;241m.\u001b[39mbytecode_cache\n",
      "File \u001b[0;32m/usr/local/python/3.10.4/lib/python3.10/site-packages/flask/templating.py:62\u001b[0m, in \u001b[0;36mDispatchingJinjaLoader.get_source\u001b[0;34m(self, environment, template)\u001b[0m\n\u001b[1;32m     60\u001b[0m \u001b[38;5;28;01mif\u001b[39;00m \u001b[38;5;28mself\u001b[39m\u001b[38;5;241m.\u001b[39mapp\u001b[38;5;241m.\u001b[39mconfig[\u001b[38;5;124m\"\u001b[39m\u001b[38;5;124mEXPLAIN_TEMPLATE_LOADING\u001b[39m\u001b[38;5;124m\"\u001b[39m]:\n\u001b[1;32m     61\u001b[0m     \u001b[38;5;28;01mreturn\u001b[39;00m \u001b[38;5;28mself\u001b[39m\u001b[38;5;241m.\u001b[39m_get_source_explained(environment, template)\n\u001b[0;32m---> 62\u001b[0m \u001b[38;5;28;01mreturn\u001b[39;00m \u001b[38;5;28;43mself\u001b[39;49m\u001b[38;5;241;43m.\u001b[39;49m\u001b[43m_get_source_fast\u001b[49m\u001b[43m(\u001b[49m\u001b[43menvironment\u001b[49m\u001b[43m,\u001b[49m\u001b[43m \u001b[49m\u001b[43mtemplate\u001b[49m\u001b[43m)\u001b[49m\n",
      "File \u001b[0;32m/usr/local/python/3.10.4/lib/python3.10/site-packages/flask/templating.py:98\u001b[0m, in \u001b[0;36mDispatchingJinjaLoader._get_source_fast\u001b[0;34m(self, environment, template)\u001b[0m\n\u001b[1;32m     96\u001b[0m     \u001b[38;5;28;01mexcept\u001b[39;00m TemplateNotFound:\n\u001b[1;32m     97\u001b[0m         \u001b[38;5;28;01mcontinue\u001b[39;00m\n\u001b[0;32m---> 98\u001b[0m \u001b[38;5;28;01mraise\u001b[39;00m TemplateNotFound(template)\n",
      "\u001b[0;31mTemplateNotFound\u001b[0m: index.html"
     ]
    }
   ],
   "source": [
    "import os\n",
    "from flask import Flask, render_template\n",
    "\n",
    "# Define the Flask app\n",
    "app = Flask(__name__)\n",
    "\n",
    "# Define the index route\n",
    "@app.route('/')\n",
    "def index():\n",
    "    # Render the Jinja2 template\n",
    "    context = {\"title\": \"ISO 10012:2003 Measurement Management System for Gas Stations\"}\n",
    "    return render_template('index.html', **context)\n",
    "\n",
    "# Run the app if this file is executed\n",
    "if __name__ == '__main__':\n",
    "    # Render the template and save to an HTML file in the public directory\n",
    "    with app.app_context():\n",
    "        context = {\"title\": \"ISO 10012:2003 Measurement Management System for Gas Stations\"}\n",
    "        html = render_template('index.html', **context)\n",
    "        with open('public/index.html', 'w') as f:\n",
    "            f.write(html)\n"
   ]
  },
  {
   "cell_type": "code",
   "execution_count": 27,
   "id": "da69fd92-0997-42ed-aac2-71a146f241bc",
   "metadata": {
    "tags": []
   },
   "outputs": [],
   "source": [
    "from flask import Flask, render_template\n",
    "\n",
    "app = Flask(__name__)\n",
    "\n",
    "@app.route('/')\n",
    "def index():\n",
    "    return render_template('index.html')\n"
   ]
  },
  {
   "cell_type": "code",
   "execution_count": 28,
   "id": "de625212-f0e4-4d8a-8d8a-462cf21320db",
   "metadata": {
    "tags": []
   },
   "outputs": [
    {
     "ename": "TemplateNotFound",
     "evalue": "index.html",
     "output_type": "error",
     "traceback": [
      "\u001b[0;31m---------------------------------------------------------------------------\u001b[0m",
      "\u001b[0;31mTemplateNotFound\u001b[0m                          Traceback (most recent call last)",
      "Cell \u001b[0;32mIn[28], line 37\u001b[0m\n\u001b[1;32m     27\u001b[0m context \u001b[38;5;241m=\u001b[39m {\n\u001b[1;32m     28\u001b[0m     \u001b[38;5;124m\"\u001b[39m\u001b[38;5;124mtitle\u001b[39m\u001b[38;5;124m\"\u001b[39m: \u001b[38;5;124m\"\u001b[39m\u001b[38;5;124mISO 10012:2003 Measurement Management System for Gas Stations\u001b[39m\u001b[38;5;124m\"\u001b[39m,\n\u001b[1;32m     29\u001b[0m     \u001b[38;5;124m\"\u001b[39m\u001b[38;5;124mmenu_items\u001b[39m\u001b[38;5;124m\"\u001b[39m: [\n\u001b[0;32m   (...)\u001b[0m\n\u001b[1;32m     34\u001b[0m     ]\n\u001b[1;32m     35\u001b[0m }\n\u001b[1;32m     36\u001b[0m \u001b[38;5;66;03m# Render the Jinja2 template\u001b[39;00m\n\u001b[0;32m---> 37\u001b[0m html \u001b[38;5;241m=\u001b[39m \u001b[43mrender_template\u001b[49m\u001b[43m(\u001b[49m\u001b[38;5;124;43m'\u001b[39;49m\u001b[38;5;124;43mindex.html\u001b[39;49m\u001b[38;5;124;43m'\u001b[39;49m\u001b[43m,\u001b[49m\u001b[43m \u001b[49m\u001b[38;5;241;43m*\u001b[39;49m\u001b[38;5;241;43m*\u001b[39;49m\u001b[43mcontext\u001b[49m\u001b[43m)\u001b[49m\n\u001b[1;32m     38\u001b[0m \u001b[38;5;66;03m# Save the HTML to a file in the public directory\u001b[39;00m\n\u001b[1;32m     39\u001b[0m \u001b[38;5;28;01mwith\u001b[39;00m \u001b[38;5;28mopen\u001b[39m(\u001b[38;5;124m'\u001b[39m\u001b[38;5;124mpublic/index.html\u001b[39m\u001b[38;5;124m'\u001b[39m, \u001b[38;5;124m'\u001b[39m\u001b[38;5;124mw\u001b[39m\u001b[38;5;124m'\u001b[39m) \u001b[38;5;28;01mas\u001b[39;00m f:\n",
      "File \u001b[0;32m/usr/local/python/3.10.4/lib/python3.10/site-packages/flask/templating.py:146\u001b[0m, in \u001b[0;36mrender_template\u001b[0;34m(template_name_or_list, **context)\u001b[0m\n\u001b[1;32m    139\u001b[0m \u001b[38;5;250m\u001b[39m\u001b[38;5;124;03m\"\"\"Render a template by name with the given context.\u001b[39;00m\n\u001b[1;32m    140\u001b[0m \n\u001b[1;32m    141\u001b[0m \u001b[38;5;124;03m:param template_name_or_list: The name of the template to render. If\u001b[39;00m\n\u001b[1;32m    142\u001b[0m \u001b[38;5;124;03m    a list is given, the first name to exist will be rendered.\u001b[39;00m\n\u001b[1;32m    143\u001b[0m \u001b[38;5;124;03m:param context: The variables to make available in the template.\u001b[39;00m\n\u001b[1;32m    144\u001b[0m \u001b[38;5;124;03m\"\"\"\u001b[39;00m\n\u001b[1;32m    145\u001b[0m app \u001b[38;5;241m=\u001b[39m current_app\u001b[38;5;241m.\u001b[39m_get_current_object()  \u001b[38;5;66;03m# type: ignore[attr-defined]\u001b[39;00m\n\u001b[0;32m--> 146\u001b[0m template \u001b[38;5;241m=\u001b[39m \u001b[43mapp\u001b[49m\u001b[38;5;241;43m.\u001b[39;49m\u001b[43mjinja_env\u001b[49m\u001b[38;5;241;43m.\u001b[39;49m\u001b[43mget_or_select_template\u001b[49m\u001b[43m(\u001b[49m\u001b[43mtemplate_name_or_list\u001b[49m\u001b[43m)\u001b[49m\n\u001b[1;32m    147\u001b[0m \u001b[38;5;28;01mreturn\u001b[39;00m _render(app, template, context)\n",
      "File \u001b[0;32m~/.local/lib/python3.10/site-packages/jinja2/environment.py:1081\u001b[0m, in \u001b[0;36mEnvironment.get_or_select_template\u001b[0;34m(self, template_name_or_list, parent, globals)\u001b[0m\n\u001b[1;32m   1075\u001b[0m \u001b[38;5;250m\u001b[39m\u001b[38;5;124;03m\"\"\"Use :meth:`select_template` if an iterable of template names\u001b[39;00m\n\u001b[1;32m   1076\u001b[0m \u001b[38;5;124;03mis given, or :meth:`get_template` if one name is given.\u001b[39;00m\n\u001b[1;32m   1077\u001b[0m \n\u001b[1;32m   1078\u001b[0m \u001b[38;5;124;03m.. versionadded:: 2.3\u001b[39;00m\n\u001b[1;32m   1079\u001b[0m \u001b[38;5;124;03m\"\"\"\u001b[39;00m\n\u001b[1;32m   1080\u001b[0m \u001b[38;5;28;01mif\u001b[39;00m \u001b[38;5;28misinstance\u001b[39m(template_name_or_list, (\u001b[38;5;28mstr\u001b[39m, Undefined)):\n\u001b[0;32m-> 1081\u001b[0m     \u001b[38;5;28;01mreturn\u001b[39;00m \u001b[38;5;28;43mself\u001b[39;49m\u001b[38;5;241;43m.\u001b[39;49m\u001b[43mget_template\u001b[49m\u001b[43m(\u001b[49m\u001b[43mtemplate_name_or_list\u001b[49m\u001b[43m,\u001b[49m\u001b[43m \u001b[49m\u001b[43mparent\u001b[49m\u001b[43m,\u001b[49m\u001b[43m \u001b[49m\u001b[38;5;28;43mglobals\u001b[39;49m\u001b[43m)\u001b[49m\n\u001b[1;32m   1082\u001b[0m \u001b[38;5;28;01melif\u001b[39;00m \u001b[38;5;28misinstance\u001b[39m(template_name_or_list, Template):\n\u001b[1;32m   1083\u001b[0m     \u001b[38;5;28;01mreturn\u001b[39;00m template_name_or_list\n",
      "File \u001b[0;32m~/.local/lib/python3.10/site-packages/jinja2/environment.py:1010\u001b[0m, in \u001b[0;36mEnvironment.get_template\u001b[0;34m(self, name, parent, globals)\u001b[0m\n\u001b[1;32m   1007\u001b[0m \u001b[38;5;28;01mif\u001b[39;00m parent \u001b[38;5;129;01mis\u001b[39;00m \u001b[38;5;129;01mnot\u001b[39;00m \u001b[38;5;28;01mNone\u001b[39;00m:\n\u001b[1;32m   1008\u001b[0m     name \u001b[38;5;241m=\u001b[39m \u001b[38;5;28mself\u001b[39m\u001b[38;5;241m.\u001b[39mjoin_path(name, parent)\n\u001b[0;32m-> 1010\u001b[0m \u001b[38;5;28;01mreturn\u001b[39;00m \u001b[38;5;28;43mself\u001b[39;49m\u001b[38;5;241;43m.\u001b[39;49m\u001b[43m_load_template\u001b[49m\u001b[43m(\u001b[49m\u001b[43mname\u001b[49m\u001b[43m,\u001b[49m\u001b[43m \u001b[49m\u001b[38;5;28;43mglobals\u001b[39;49m\u001b[43m)\u001b[49m\n",
      "File \u001b[0;32m~/.local/lib/python3.10/site-packages/jinja2/environment.py:969\u001b[0m, in \u001b[0;36mEnvironment._load_template\u001b[0;34m(self, name, globals)\u001b[0m\n\u001b[1;32m    965\u001b[0m             template\u001b[38;5;241m.\u001b[39mglobals\u001b[38;5;241m.\u001b[39mupdate(\u001b[38;5;28mglobals\u001b[39m)\n\u001b[1;32m    967\u001b[0m         \u001b[38;5;28;01mreturn\u001b[39;00m template\n\u001b[0;32m--> 969\u001b[0m template \u001b[38;5;241m=\u001b[39m \u001b[38;5;28;43mself\u001b[39;49m\u001b[38;5;241;43m.\u001b[39;49m\u001b[43mloader\u001b[49m\u001b[38;5;241;43m.\u001b[39;49m\u001b[43mload\u001b[49m\u001b[43m(\u001b[49m\u001b[38;5;28;43mself\u001b[39;49m\u001b[43m,\u001b[49m\u001b[43m \u001b[49m\u001b[43mname\u001b[49m\u001b[43m,\u001b[49m\u001b[43m \u001b[49m\u001b[38;5;28;43mself\u001b[39;49m\u001b[38;5;241;43m.\u001b[39;49m\u001b[43mmake_globals\u001b[49m\u001b[43m(\u001b[49m\u001b[38;5;28;43mglobals\u001b[39;49m\u001b[43m)\u001b[49m\u001b[43m)\u001b[49m\n\u001b[1;32m    971\u001b[0m \u001b[38;5;28;01mif\u001b[39;00m \u001b[38;5;28mself\u001b[39m\u001b[38;5;241m.\u001b[39mcache \u001b[38;5;129;01mis\u001b[39;00m \u001b[38;5;129;01mnot\u001b[39;00m \u001b[38;5;28;01mNone\u001b[39;00m:\n\u001b[1;32m    972\u001b[0m     \u001b[38;5;28mself\u001b[39m\u001b[38;5;241m.\u001b[39mcache[cache_key] \u001b[38;5;241m=\u001b[39m template\n",
      "File \u001b[0;32m~/.local/lib/python3.10/site-packages/jinja2/loaders.py:126\u001b[0m, in \u001b[0;36mBaseLoader.load\u001b[0;34m(self, environment, name, globals)\u001b[0m\n\u001b[1;32m    122\u001b[0m     \u001b[38;5;28mglobals\u001b[39m \u001b[38;5;241m=\u001b[39m {}\n\u001b[1;32m    124\u001b[0m \u001b[38;5;66;03m# first we try to get the source for this template together\u001b[39;00m\n\u001b[1;32m    125\u001b[0m \u001b[38;5;66;03m# with the filename and the uptodate function.\u001b[39;00m\n\u001b[0;32m--> 126\u001b[0m source, filename, uptodate \u001b[38;5;241m=\u001b[39m \u001b[38;5;28;43mself\u001b[39;49m\u001b[38;5;241;43m.\u001b[39;49m\u001b[43mget_source\u001b[49m\u001b[43m(\u001b[49m\u001b[43menvironment\u001b[49m\u001b[43m,\u001b[49m\u001b[43m \u001b[49m\u001b[43mname\u001b[49m\u001b[43m)\u001b[49m\n\u001b[1;32m    128\u001b[0m \u001b[38;5;66;03m# try to load the code from the bytecode cache if there is a\u001b[39;00m\n\u001b[1;32m    129\u001b[0m \u001b[38;5;66;03m# bytecode cache configured.\u001b[39;00m\n\u001b[1;32m    130\u001b[0m bcc \u001b[38;5;241m=\u001b[39m environment\u001b[38;5;241m.\u001b[39mbytecode_cache\n",
      "File \u001b[0;32m/usr/local/python/3.10.4/lib/python3.10/site-packages/flask/templating.py:62\u001b[0m, in \u001b[0;36mDispatchingJinjaLoader.get_source\u001b[0;34m(self, environment, template)\u001b[0m\n\u001b[1;32m     60\u001b[0m \u001b[38;5;28;01mif\u001b[39;00m \u001b[38;5;28mself\u001b[39m\u001b[38;5;241m.\u001b[39mapp\u001b[38;5;241m.\u001b[39mconfig[\u001b[38;5;124m\"\u001b[39m\u001b[38;5;124mEXPLAIN_TEMPLATE_LOADING\u001b[39m\u001b[38;5;124m\"\u001b[39m]:\n\u001b[1;32m     61\u001b[0m     \u001b[38;5;28;01mreturn\u001b[39;00m \u001b[38;5;28mself\u001b[39m\u001b[38;5;241m.\u001b[39m_get_source_explained(environment, template)\n\u001b[0;32m---> 62\u001b[0m \u001b[38;5;28;01mreturn\u001b[39;00m \u001b[38;5;28;43mself\u001b[39;49m\u001b[38;5;241;43m.\u001b[39;49m\u001b[43m_get_source_fast\u001b[49m\u001b[43m(\u001b[49m\u001b[43menvironment\u001b[49m\u001b[43m,\u001b[49m\u001b[43m \u001b[49m\u001b[43mtemplate\u001b[49m\u001b[43m)\u001b[49m\n",
      "File \u001b[0;32m/usr/local/python/3.10.4/lib/python3.10/site-packages/flask/templating.py:98\u001b[0m, in \u001b[0;36mDispatchingJinjaLoader._get_source_fast\u001b[0;34m(self, environment, template)\u001b[0m\n\u001b[1;32m     96\u001b[0m     \u001b[38;5;28;01mexcept\u001b[39;00m TemplateNotFound:\n\u001b[1;32m     97\u001b[0m         \u001b[38;5;28;01mcontinue\u001b[39;00m\n\u001b[0;32m---> 98\u001b[0m \u001b[38;5;28;01mraise\u001b[39;00m TemplateNotFound(template)\n",
      "\u001b[0;31mTemplateNotFound\u001b[0m: index.html"
     ]
    }
   ],
   "source": [
    "import os\n",
    "from flask import Flask, render_template\n",
    "\n",
    "# Define the Flask app\n",
    "app = Flask(__name__)\n",
    "\n",
    "# Define the index route\n",
    "@app.route('/')\n",
    "def index():\n",
    "    # Define the context variables\n",
    "    context = {\n",
    "        \"title\": \"ISO 10012:2003 Measurement Management System for Gas Stations\",\n",
    "        \"menu_items\": [\n",
    "            {\"label\": \"Home\", \"href\": \"/\"},\n",
    "            {\"label\": \"Measuring Equipment\", \"href\": \"/measuring_equipment\"},\n",
    "            {\"label\": \"Measurement Processes\", \"href\": \"/measurement_processes\"},\n",
    "            {\"label\": \"Measurement Management\", \"href\": \"/measurement_management\"}\n",
    "        ]\n",
    "    }\n",
    "    return render_template('index.html', **context)\n",
    "\n",
    "# Run the app if this file is executed\n",
    "if __name__ == '__main__':\n",
    "    # Render the template and save to an HTML file in the public directory\n",
    "    with app.app_context():\n",
    "        # Define the context variables\n",
    "        context = {\n",
    "            \"title\": \"ISO 10012:2003 Measurement Management System for Gas Stations\",\n",
    "            \"menu_items\": [\n",
    "                {\"label\": \"Home\", \"href\": \"/\"},\n",
    "                {\"label\": \"Measuring Equipment\", \"href\": \"/measuring_equipment\"},\n",
    "                {\"label\": \"Measurement Processes\", \"href\": \"/measurement_processes\"},\n",
    "                {\"label\": \"Measurement Management\", \"href\": \"/measurement_management\"}\n",
    "            ]\n",
    "        }\n",
    "        # Render the Jinja2 template\n",
    "        html = render_template('index.html', **context)\n",
    "        # Save the HTML to a file in the public directory\n",
    "        with open('public/index.html', 'w') as f:\n",
    "            f.write(html)\n"
   ]
  },
  {
   "cell_type": "code",
   "execution_count": 29,
   "id": "758a7ba9-10a8-448f-bccb-c64451ab7d45",
   "metadata": {
    "tags": []
   },
   "outputs": [
    {
     "ename": "TemplateNotFound",
     "evalue": "index.html",
     "output_type": "error",
     "traceback": [
      "\u001b[0;31m---------------------------------------------------------------------------\u001b[0m",
      "\u001b[0;31mTemplateNotFound\u001b[0m                          Traceback (most recent call last)",
      "Cell \u001b[0;32mIn[29], line 37\u001b[0m\n\u001b[1;32m     27\u001b[0m context \u001b[38;5;241m=\u001b[39m {\n\u001b[1;32m     28\u001b[0m     \u001b[38;5;124m\"\u001b[39m\u001b[38;5;124mtitle\u001b[39m\u001b[38;5;124m\"\u001b[39m: \u001b[38;5;124m\"\u001b[39m\u001b[38;5;124mISO 10012:2003 Measurement Management System for Gas Stations\u001b[39m\u001b[38;5;124m\"\u001b[39m,\n\u001b[1;32m     29\u001b[0m     \u001b[38;5;124m\"\u001b[39m\u001b[38;5;124mmenu_items\u001b[39m\u001b[38;5;124m\"\u001b[39m: [\n\u001b[0;32m   (...)\u001b[0m\n\u001b[1;32m     34\u001b[0m     ]\n\u001b[1;32m     35\u001b[0m }\n\u001b[1;32m     36\u001b[0m \u001b[38;5;66;03m# Render the Jinja2 template\u001b[39;00m\n\u001b[0;32m---> 37\u001b[0m html \u001b[38;5;241m=\u001b[39m \u001b[43mrender_template\u001b[49m\u001b[43m(\u001b[49m\u001b[38;5;124;43m'\u001b[39;49m\u001b[38;5;124;43mindex.html\u001b[39;49m\u001b[38;5;124;43m'\u001b[39;49m\u001b[43m,\u001b[49m\u001b[43m \u001b[49m\u001b[38;5;241;43m*\u001b[39;49m\u001b[38;5;241;43m*\u001b[39;49m\u001b[43mcontext\u001b[49m\u001b[43m)\u001b[49m\n\u001b[1;32m     38\u001b[0m \u001b[38;5;66;03m# Save the HTML to a file in the public directory\u001b[39;00m\n\u001b[1;32m     39\u001b[0m \u001b[38;5;28;01mwith\u001b[39;00m \u001b[38;5;28mopen\u001b[39m(\u001b[38;5;124m'\u001b[39m\u001b[38;5;124mpublic/index.html\u001b[39m\u001b[38;5;124m'\u001b[39m, \u001b[38;5;124m'\u001b[39m\u001b[38;5;124mw\u001b[39m\u001b[38;5;124m'\u001b[39m) \u001b[38;5;28;01mas\u001b[39;00m f:\n",
      "File \u001b[0;32m/usr/local/python/3.10.4/lib/python3.10/site-packages/flask/templating.py:146\u001b[0m, in \u001b[0;36mrender_template\u001b[0;34m(template_name_or_list, **context)\u001b[0m\n\u001b[1;32m    139\u001b[0m \u001b[38;5;250m\u001b[39m\u001b[38;5;124;03m\"\"\"Render a template by name with the given context.\u001b[39;00m\n\u001b[1;32m    140\u001b[0m \n\u001b[1;32m    141\u001b[0m \u001b[38;5;124;03m:param template_name_or_list: The name of the template to render. If\u001b[39;00m\n\u001b[1;32m    142\u001b[0m \u001b[38;5;124;03m    a list is given, the first name to exist will be rendered.\u001b[39;00m\n\u001b[1;32m    143\u001b[0m \u001b[38;5;124;03m:param context: The variables to make available in the template.\u001b[39;00m\n\u001b[1;32m    144\u001b[0m \u001b[38;5;124;03m\"\"\"\u001b[39;00m\n\u001b[1;32m    145\u001b[0m app \u001b[38;5;241m=\u001b[39m current_app\u001b[38;5;241m.\u001b[39m_get_current_object()  \u001b[38;5;66;03m# type: ignore[attr-defined]\u001b[39;00m\n\u001b[0;32m--> 146\u001b[0m template \u001b[38;5;241m=\u001b[39m \u001b[43mapp\u001b[49m\u001b[38;5;241;43m.\u001b[39;49m\u001b[43mjinja_env\u001b[49m\u001b[38;5;241;43m.\u001b[39;49m\u001b[43mget_or_select_template\u001b[49m\u001b[43m(\u001b[49m\u001b[43mtemplate_name_or_list\u001b[49m\u001b[43m)\u001b[49m\n\u001b[1;32m    147\u001b[0m \u001b[38;5;28;01mreturn\u001b[39;00m _render(app, template, context)\n",
      "File \u001b[0;32m~/.local/lib/python3.10/site-packages/jinja2/environment.py:1081\u001b[0m, in \u001b[0;36mEnvironment.get_or_select_template\u001b[0;34m(self, template_name_or_list, parent, globals)\u001b[0m\n\u001b[1;32m   1075\u001b[0m \u001b[38;5;250m\u001b[39m\u001b[38;5;124;03m\"\"\"Use :meth:`select_template` if an iterable of template names\u001b[39;00m\n\u001b[1;32m   1076\u001b[0m \u001b[38;5;124;03mis given, or :meth:`get_template` if one name is given.\u001b[39;00m\n\u001b[1;32m   1077\u001b[0m \n\u001b[1;32m   1078\u001b[0m \u001b[38;5;124;03m.. versionadded:: 2.3\u001b[39;00m\n\u001b[1;32m   1079\u001b[0m \u001b[38;5;124;03m\"\"\"\u001b[39;00m\n\u001b[1;32m   1080\u001b[0m \u001b[38;5;28;01mif\u001b[39;00m \u001b[38;5;28misinstance\u001b[39m(template_name_or_list, (\u001b[38;5;28mstr\u001b[39m, Undefined)):\n\u001b[0;32m-> 1081\u001b[0m     \u001b[38;5;28;01mreturn\u001b[39;00m \u001b[38;5;28;43mself\u001b[39;49m\u001b[38;5;241;43m.\u001b[39;49m\u001b[43mget_template\u001b[49m\u001b[43m(\u001b[49m\u001b[43mtemplate_name_or_list\u001b[49m\u001b[43m,\u001b[49m\u001b[43m \u001b[49m\u001b[43mparent\u001b[49m\u001b[43m,\u001b[49m\u001b[43m \u001b[49m\u001b[38;5;28;43mglobals\u001b[39;49m\u001b[43m)\u001b[49m\n\u001b[1;32m   1082\u001b[0m \u001b[38;5;28;01melif\u001b[39;00m \u001b[38;5;28misinstance\u001b[39m(template_name_or_list, Template):\n\u001b[1;32m   1083\u001b[0m     \u001b[38;5;28;01mreturn\u001b[39;00m template_name_or_list\n",
      "File \u001b[0;32m~/.local/lib/python3.10/site-packages/jinja2/environment.py:1010\u001b[0m, in \u001b[0;36mEnvironment.get_template\u001b[0;34m(self, name, parent, globals)\u001b[0m\n\u001b[1;32m   1007\u001b[0m \u001b[38;5;28;01mif\u001b[39;00m parent \u001b[38;5;129;01mis\u001b[39;00m \u001b[38;5;129;01mnot\u001b[39;00m \u001b[38;5;28;01mNone\u001b[39;00m:\n\u001b[1;32m   1008\u001b[0m     name \u001b[38;5;241m=\u001b[39m \u001b[38;5;28mself\u001b[39m\u001b[38;5;241m.\u001b[39mjoin_path(name, parent)\n\u001b[0;32m-> 1010\u001b[0m \u001b[38;5;28;01mreturn\u001b[39;00m \u001b[38;5;28;43mself\u001b[39;49m\u001b[38;5;241;43m.\u001b[39;49m\u001b[43m_load_template\u001b[49m\u001b[43m(\u001b[49m\u001b[43mname\u001b[49m\u001b[43m,\u001b[49m\u001b[43m \u001b[49m\u001b[38;5;28;43mglobals\u001b[39;49m\u001b[43m)\u001b[49m\n",
      "File \u001b[0;32m~/.local/lib/python3.10/site-packages/jinja2/environment.py:969\u001b[0m, in \u001b[0;36mEnvironment._load_template\u001b[0;34m(self, name, globals)\u001b[0m\n\u001b[1;32m    965\u001b[0m             template\u001b[38;5;241m.\u001b[39mglobals\u001b[38;5;241m.\u001b[39mupdate(\u001b[38;5;28mglobals\u001b[39m)\n\u001b[1;32m    967\u001b[0m         \u001b[38;5;28;01mreturn\u001b[39;00m template\n\u001b[0;32m--> 969\u001b[0m template \u001b[38;5;241m=\u001b[39m \u001b[38;5;28;43mself\u001b[39;49m\u001b[38;5;241;43m.\u001b[39;49m\u001b[43mloader\u001b[49m\u001b[38;5;241;43m.\u001b[39;49m\u001b[43mload\u001b[49m\u001b[43m(\u001b[49m\u001b[38;5;28;43mself\u001b[39;49m\u001b[43m,\u001b[49m\u001b[43m \u001b[49m\u001b[43mname\u001b[49m\u001b[43m,\u001b[49m\u001b[43m \u001b[49m\u001b[38;5;28;43mself\u001b[39;49m\u001b[38;5;241;43m.\u001b[39;49m\u001b[43mmake_globals\u001b[49m\u001b[43m(\u001b[49m\u001b[38;5;28;43mglobals\u001b[39;49m\u001b[43m)\u001b[49m\u001b[43m)\u001b[49m\n\u001b[1;32m    971\u001b[0m \u001b[38;5;28;01mif\u001b[39;00m \u001b[38;5;28mself\u001b[39m\u001b[38;5;241m.\u001b[39mcache \u001b[38;5;129;01mis\u001b[39;00m \u001b[38;5;129;01mnot\u001b[39;00m \u001b[38;5;28;01mNone\u001b[39;00m:\n\u001b[1;32m    972\u001b[0m     \u001b[38;5;28mself\u001b[39m\u001b[38;5;241m.\u001b[39mcache[cache_key] \u001b[38;5;241m=\u001b[39m template\n",
      "File \u001b[0;32m~/.local/lib/python3.10/site-packages/jinja2/loaders.py:126\u001b[0m, in \u001b[0;36mBaseLoader.load\u001b[0;34m(self, environment, name, globals)\u001b[0m\n\u001b[1;32m    122\u001b[0m     \u001b[38;5;28mglobals\u001b[39m \u001b[38;5;241m=\u001b[39m {}\n\u001b[1;32m    124\u001b[0m \u001b[38;5;66;03m# first we try to get the source for this template together\u001b[39;00m\n\u001b[1;32m    125\u001b[0m \u001b[38;5;66;03m# with the filename and the uptodate function.\u001b[39;00m\n\u001b[0;32m--> 126\u001b[0m source, filename, uptodate \u001b[38;5;241m=\u001b[39m \u001b[38;5;28;43mself\u001b[39;49m\u001b[38;5;241;43m.\u001b[39;49m\u001b[43mget_source\u001b[49m\u001b[43m(\u001b[49m\u001b[43menvironment\u001b[49m\u001b[43m,\u001b[49m\u001b[43m \u001b[49m\u001b[43mname\u001b[49m\u001b[43m)\u001b[49m\n\u001b[1;32m    128\u001b[0m \u001b[38;5;66;03m# try to load the code from the bytecode cache if there is a\u001b[39;00m\n\u001b[1;32m    129\u001b[0m \u001b[38;5;66;03m# bytecode cache configured.\u001b[39;00m\n\u001b[1;32m    130\u001b[0m bcc \u001b[38;5;241m=\u001b[39m environment\u001b[38;5;241m.\u001b[39mbytecode_cache\n",
      "File \u001b[0;32m/usr/local/python/3.10.4/lib/python3.10/site-packages/flask/templating.py:62\u001b[0m, in \u001b[0;36mDispatchingJinjaLoader.get_source\u001b[0;34m(self, environment, template)\u001b[0m\n\u001b[1;32m     60\u001b[0m \u001b[38;5;28;01mif\u001b[39;00m \u001b[38;5;28mself\u001b[39m\u001b[38;5;241m.\u001b[39mapp\u001b[38;5;241m.\u001b[39mconfig[\u001b[38;5;124m\"\u001b[39m\u001b[38;5;124mEXPLAIN_TEMPLATE_LOADING\u001b[39m\u001b[38;5;124m\"\u001b[39m]:\n\u001b[1;32m     61\u001b[0m     \u001b[38;5;28;01mreturn\u001b[39;00m \u001b[38;5;28mself\u001b[39m\u001b[38;5;241m.\u001b[39m_get_source_explained(environment, template)\n\u001b[0;32m---> 62\u001b[0m \u001b[38;5;28;01mreturn\u001b[39;00m \u001b[38;5;28;43mself\u001b[39;49m\u001b[38;5;241;43m.\u001b[39;49m\u001b[43m_get_source_fast\u001b[49m\u001b[43m(\u001b[49m\u001b[43menvironment\u001b[49m\u001b[43m,\u001b[49m\u001b[43m \u001b[49m\u001b[43mtemplate\u001b[49m\u001b[43m)\u001b[49m\n",
      "File \u001b[0;32m/usr/local/python/3.10.4/lib/python3.10/site-packages/flask/templating.py:98\u001b[0m, in \u001b[0;36mDispatchingJinjaLoader._get_source_fast\u001b[0;34m(self, environment, template)\u001b[0m\n\u001b[1;32m     96\u001b[0m     \u001b[38;5;28;01mexcept\u001b[39;00m TemplateNotFound:\n\u001b[1;32m     97\u001b[0m         \u001b[38;5;28;01mcontinue\u001b[39;00m\n\u001b[0;32m---> 98\u001b[0m \u001b[38;5;28;01mraise\u001b[39;00m TemplateNotFound(template)\n",
      "\u001b[0;31mTemplateNotFound\u001b[0m: index.html"
     ]
    }
   ],
   "source": [
    "import os\n",
    "from flask import Flask, render_template\n",
    "\n",
    "# Define the Flask app\n",
    "app = Flask(__name__, template_folder='templates')\n",
    "\n",
    "# Define the index route\n",
    "@app.route('/')\n",
    "def index():\n",
    "    # Define the context variables\n",
    "    context = {\n",
    "        \"title\": \"ISO 10012:2003 Measurement Management System for Gas Stations\",\n",
    "        \"menu_items\": [\n",
    "            {\"label\": \"Home\", \"href\": \"/\"},\n",
    "            {\"label\": \"Measuring Equipment\", \"href\": \"/measuring_equipment\"},\n",
    "            {\"label\": \"Measurement Processes\", \"href\": \"/measurement_processes\"},\n",
    "            {\"label\": \"Measurement Management\", \"href\": \"/measurement_management\"}\n",
    "        ]\n",
    "    }\n",
    "    return render_template('index.html', **context)\n",
    "\n",
    "# Run the app if this file is executed\n",
    "if __name__ == '__main__':\n",
    "    # Render the template and save to an HTML file in the public directory\n",
    "    with app.app_context():\n",
    "        # Define the context variables\n",
    "        context = {\n",
    "            \"title\": \"ISO 10012:2003 Measurement Management System for Gas Stations\",\n",
    "            \"menu_items\": [\n",
    "                {\"label\": \"Home\", \"href\": \"/\"},\n",
    "                {\"label\": \"Measuring Equipment\", \"href\": \"/measuring_equipment\"},\n",
    "                {\"label\": \"Measurement Processes\", \"href\": \"/measurement_processes\"},\n",
    "                {\"label\": \"Measurement Management\", \"href\": \"/measurement_management\"}\n",
    "            ]\n",
    "        }\n",
    "        # Render the Jinja2 template\n",
    "        html = render_template('index.html', **context)\n",
    "        # Save the HTML to a file in the public directory\n",
    "        with open('public/index.html', 'w') as f:\n",
    "            f.write(html)\n"
   ]
  },
  {
   "cell_type": "code",
   "execution_count": 30,
   "id": "d53eddf9-d233-4602-9ebe-07d5b9cb629c",
   "metadata": {
    "tags": []
   },
   "outputs": [
    {
     "name": "stdout",
     "output_type": "stream",
     "text": [
      "Error: Failed to create the templates directory.\n"
     ]
    },
    {
     "name": "stderr",
     "output_type": "stream",
     "text": [
      "/bin/sh: 1: Syntax error: end of file unexpected\n"
     ]
    }
   ],
   "source": [
    "import os\n",
    "import subprocess\n",
    "\n",
    "# Define the name of the Firebase project\n",
    "project_name = '<YOUR_FIREBASE_PROJECT_NAME>'\n",
    "\n",
    "# Use the Firebase CLI to create the templates directory\n",
    "command = f'firebase storage:mkdir templates --project {project_name}'\n",
    "subprocess.run(command, shell=True)\n",
    "\n",
    "# Check that the templates directory was created\n",
    "templates_dir = os.path.join(os.getcwd(), 'templates')\n",
    "if os.path.isdir(templates_dir):\n",
    "    print('The templates directory was successfully created.')\n",
    "else:\n",
    "    print('Error: Failed to create the templates directory.')\n"
   ]
  },
  {
   "cell_type": "code",
   "execution_count": 31,
   "id": "594ef242-6ce8-41e2-870d-7eedb88dde1e",
   "metadata": {
    "tags": []
   },
   "outputs": [
    {
     "name": "stdout",
     "output_type": "stream",
     "text": [
      "\n",
      "## Installing the NodeSource Node.js 16.x repo...\n",
      "\n",
      "\n",
      "## Populating apt-get cache...\n",
      "\n",
      "+ apt-get update\n",
      "Get:1 https://repo.anaconda.com/pkgs/misc/debrepo/conda stable InRelease [3171 B]\n",
      "Get:2 https://dl.yarnpkg.com/debian stable InRelease [17.1 kB]\n",
      "Get:3 https://packages.microsoft.com/repos/microsoft-ubuntu-focal-prod focal InRelease [3065 B]\n",
      "Get:5 http://security.ubuntu.com/ubuntu focal-security InRelease [114 kB]      \n",
      "Get:6 https://repo.anaconda.com/pkgs/misc/debrepo/conda stable/main amd64 Packages [1970 B]\n",
      "Get:7 http://archive.ubuntu.com/ubuntu focal InRelease [265 kB]                \n",
      "Get:4 https://packagecloud.io/github/git-lfs/ubuntu focal InRelease [24.4 kB]  \n",
      "Get:8 https://dl.yarnpkg.com/debian stable/main all Packages [11.1 kB]         \n",
      "Get:9 https://dl.yarnpkg.com/debian stable/main amd64 Packages [11.1 kB]       \n",
      "Get:10 https://packages.microsoft.com/repos/microsoft-ubuntu-focal-prod focal/main amd64 Packages [184 kB]\n",
      "Get:11 https://packages.microsoft.com/repos/microsoft-ubuntu-focal-prod focal/main all Packages [2354 B]\n",
      "Get:12 https://packagecloud.io/github/git-lfs/ubuntu focal/main amd64 Packages [3134 B]\n",
      "Get:13 http://security.ubuntu.com/ubuntu focal-security/universe amd64 Packages [1015 kB]\n",
      "Get:14 http://archive.ubuntu.com/ubuntu focal-updates InRelease [114 kB]\n",
      "Get:15 http://archive.ubuntu.com/ubuntu focal-backports InRelease [108 kB]\n",
      "Get:16 http://archive.ubuntu.com/ubuntu focal/universe amd64 Packages [11.3 MB]\n",
      "Get:17 http://security.ubuntu.com/ubuntu focal-security/multiverse amd64 Packages [28.5 kB]\n",
      "Get:18 http://security.ubuntu.com/ubuntu focal-security/main amd64 Packages [2539 kB]\n",
      "Get:19 http://security.ubuntu.com/ubuntu focal-security/restricted amd64 Packages [1998 kB]\n",
      "Get:20 http://archive.ubuntu.com/ubuntu focal/restricted amd64 Packages [33.4 kB]\n",
      "Get:21 http://archive.ubuntu.com/ubuntu focal/main amd64 Packages [1275 kB]\n",
      "Get:22 http://archive.ubuntu.com/ubuntu focal/multiverse amd64 Packages [177 kB]\n",
      "Get:23 http://archive.ubuntu.com/ubuntu focal-updates/restricted amd64 Packages [2134 kB]\n",
      "Get:24 http://archive.ubuntu.com/ubuntu focal-updates/main amd64 Packages [3014 kB]\n",
      "Get:25 http://archive.ubuntu.com/ubuntu focal-updates/multiverse amd64 Packages [31.2 kB]\n",
      "Get:26 http://archive.ubuntu.com/ubuntu focal-updates/universe amd64 Packages [1311 kB]\n",
      "Get:27 http://archive.ubuntu.com/ubuntu focal-backports/universe amd64 Packages [28.6 kB]\n",
      "Get:28 http://archive.ubuntu.com/ubuntu focal-backports/main amd64 Packages [55.2 kB]\n",
      "Fetched 25.8 MB in 4s (6826 kB/s)                            \n",
      "Reading package lists... Done\n",
      "\n",
      "## Confirming \"focal\" is supported...\n",
      "\n",
      "+ curl -sLf -o /dev/null 'https://deb.nodesource.com/node_16.x/dists/focal/Release'\n",
      "\n",
      "## Adding the NodeSource signing key to your keyring...\n",
      "\n",
      "+ curl -s https://deb.nodesource.com/gpgkey/nodesource.gpg.key | gpg --dearmor | tee /usr/share/keyrings/nodesource.gpg >/dev/null\n",
      "\n",
      "## Creating apt sources list file for the NodeSource Node.js 16.x repo...\n",
      "\n",
      "+ echo 'deb [signed-by=/usr/share/keyrings/nodesource.gpg] https://deb.nodesource.com/node_16.x focal main' > /etc/apt/sources.list.d/nodesource.list\n",
      "+ echo 'deb-src [signed-by=/usr/share/keyrings/nodesource.gpg] https://deb.nodesource.com/node_16.x focal main' >> /etc/apt/sources.list.d/nodesource.list\n",
      "\n",
      "## Running `apt-get update` for you...\n",
      "\n",
      "+ apt-get update\n",
      "Hit:1 https://dl.yarnpkg.com/debian stable InRelease\n",
      "Hit:2 https://repo.anaconda.com/pkgs/misc/debrepo/conda stable InRelease       \n",
      "Hit:3 https://packages.microsoft.com/repos/microsoft-ubuntu-focal-prod focal InRelease\n",
      "Get:5 https://deb.nodesource.com/node_16.x focal InRelease [4583 B]            \n",
      "Hit:6 http://archive.ubuntu.com/ubuntu focal InRelease                         \n",
      "Hit:7 http://security.ubuntu.com/ubuntu focal-security InRelease               \n",
      "Hit:8 http://archive.ubuntu.com/ubuntu focal-updates InRelease                 \n",
      "Hit:4 https://packagecloud.io/github/git-lfs/ubuntu focal InRelease\n",
      "Hit:9 http://archive.ubuntu.com/ubuntu focal-backports InRelease\n",
      "Get:10 https://deb.nodesource.com/node_16.x focal/main amd64 Packages [777 B]\n",
      "Fetched 5360 B in 1s (6629 B/s)\n",
      "Reading package lists... Done\n",
      "\n",
      "## Run `\u001b[1msudo apt-get install -y nodejs\u001b[m` to install Node.js 16.x and npm\n",
      "## You may also need development tools to build native addons:\n",
      "     sudo apt-get install gcc g++ make\n",
      "## To install the Yarn package manager, run:\n",
      "     curl -sL https://dl.yarnpkg.com/debian/pubkey.gpg | gpg --dearmor | sudo tee /usr/share/keyrings/yarnkey.gpg >/dev/null\n",
      "     echo \"deb [signed-by=/usr/share/keyrings/yarnkey.gpg] https://dl.yarnpkg.com/debian stable main\" | sudo tee /etc/apt/sources.list.d/yarn.list\n",
      "     sudo apt-get update && sudo apt-get install yarn\n",
      "\n",
      "\n",
      "Reading package lists... Done\n",
      "Building dependency tree       \n",
      "Reading state information... Done\n",
      "The following packages were automatically installed and are no longer required:\n",
      "  aspnetcore-runtime-6.0 aspnetcore-targeting-pack-6.0 dotnet-apphost-pack-6.0\n",
      "  dotnet-host dotnet-hostfxr-6.0 dotnet-runtime-6.0 dotnet-runtime-deps-6.0\n",
      "  dotnet-targeting-pack-6.0 netstandard-targeting-pack-2.1\n",
      "Use 'sudo apt autoremove' to remove them.\n",
      "The following NEW packages will be installed:\n",
      "  nodejs\n",
      "0 upgraded, 1 newly installed, 0 to remove and 14 not upgraded.\n",
      "Need to get 27.2 MB of archives.\n",
      "After this operation, 128 MB of additional disk space will be used.\n",
      "Get:1 https://deb.nodesource.com/node_16.x focal/main amd64 nodejs amd64 16.19.1-deb-1nodesource1 [27.2 MB]\n",
      "Fetched 27.2 MB in 0s (82.9 MB/s)\n",
      "Selecting previously unselected package nodejs.\n",
      "(Reading database ... 68612 files and directories currently installed.)\n",
      "Preparing to unpack .../nodejs_16.19.1-deb-1nodesource1_amd64.deb ...\n",
      "Unpacking nodejs (16.19.1-deb-1nodesource1) ...\n",
      "Setting up nodejs (16.19.1-deb-1nodesource1) ...\n",
      "Processing triggers for man-db (2.9.1-1) ...\n"
     ]
    }
   ],
   "source": [
    "!curl -sL https://deb.nodesource.com/setup_16.x | sudo -E bash -\n",
    "!sudo apt-get install -y nodejs\n"
   ]
  },
  {
   "cell_type": "code",
   "execution_count": null,
   "id": "fadfc7b4-883b-4b02-9e88-26c4f13241a9",
   "metadata": {
    "tags": []
   },
   "outputs": [],
   "source": [
    "!sudo npm install -g firebase-tools\n"
   ]
  },
  {
   "cell_type": "code",
   "execution_count": null,
   "id": "5cc883d0-2e21-453e-977f-6dc8a63a22cf",
   "metadata": {},
   "outputs": [],
   "source": []
  }
 ],
 "metadata": {
  "kernelspec": {
   "display_name": "Python 3 (ipykernel)",
   "language": "python",
   "name": "python3"
  },
  "language_info": {
   "codemirror_mode": {
    "name": "ipython",
    "version": 3
   },
   "file_extension": ".py",
   "mimetype": "text/x-python",
   "name": "python",
   "nbconvert_exporter": "python",
   "pygments_lexer": "ipython3",
   "version": "3.10.4"
  }
 },
 "nbformat": 4,
 "nbformat_minor": 5
}
